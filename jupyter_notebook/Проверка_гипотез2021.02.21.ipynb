{
 "cells": [
  {
   "cell_type": "code",
   "execution_count": 301,
   "metadata": {},
   "outputs": [],
   "source": [
    "import pandas as pd\n",
    "from datetime import datetime\n",
    "\n",
    "import matplotlib.pyplot as plt\n",
    "\n",
    "%matplotlib inline"
   ]
  },
  {
   "cell_type": "markdown",
   "metadata": {},
   "source": [
    "## PROJECT 7.10\n",
    "1. ### Импорт данных\n",
    "2. ### Обработка данных\n",
    "    3. #### Проверка, нет ли повторений\n",
    "4. ### 1.Проверим зависит ли вероятность оплаты от выбранного пользователем уровня сложности?\n",
    "    5. #### Проверяем сумму\n",
    "    6. #### Процент пользователей, которые оплатили тренировки\n",
    "    7. #### Среднее время между событиями оплаты и выбором уровня сложности\n",
    "8. ### 2.Существует ли разница во времени между событиями регистрации и оплаты для разных групп пользователей с разным уровнем сложности?\n",
    "    9. ####  Проверка\n",
    "10. ### Выводы \n",
    "    11. #### График по первому вопросу"
   ]
  },
  {
   "cell_type": "markdown",
   "metadata": {},
   "source": [
    "### Импорт данных"
   ]
  },
  {
   "cell_type": "code",
   "execution_count": 302,
   "metadata": {},
   "outputs": [],
   "source": [
    "events_df = pd.read_csv('7_4_Events.csv')\n",
    "purchase_df = pd.read_csv('7_4_Purchase.csv')"
   ]
  },
  {
   "cell_type": "markdown",
   "metadata": {},
   "source": [
    "### Обработка данных"
   ]
  },
  {
   "cell_type": "code",
   "execution_count": 303,
   "metadata": {},
   "outputs": [],
   "source": [
    "events_df['year'] = pd.to_numeric(events_df['start_time'].str[:4])\n",
    "\n",
    "id_2018 = events_df['user_id'][(events_df['year'] == 2018)&(events_df['event_type'] == 'registration')]\n",
    "\n",
    "id_2018_list = id_2018.to_list()\n",
    "\n",
    "events_df = events_df[events_df['user_id'].isin(id_2018_list)]\n",
    "\n",
    "events_df = events_df.rename(columns={'id':'event_id'})\n",
    "\n",
    "events_df['start_time'] = pd.to_datetime(events_df['start_time'],format='%Y-%m-%dT%H:%M:%S')"
   ]
  },
  {
   "cell_type": "code",
   "execution_count": 304,
   "metadata": {},
   "outputs": [],
   "source": [
    "purchase_df = purchase_df[purchase_df['user_id'].isin(id_2018_list)]\n",
    "\n",
    "purchase_df = purchase_df.rename(columns={'id':'purchase_id'})\n",
    "\n",
    "purchase_df['event_type'] = 'purchase'\n",
    "\n",
    "purchase_df['event_datetime'] = pd.to_datetime(purchase_df['event_datetime'],format='%Y-%m-%dT%H:%M:%S')"
   ]
  },
  {
   "cell_type": "code",
   "execution_count": 305,
   "metadata": {},
   "outputs": [
    {
     "data": {
      "text/html": [
       "<div>\n",
       "<style scoped>\n",
       "    .dataframe tbody tr th:only-of-type {\n",
       "        vertical-align: middle;\n",
       "    }\n",
       "\n",
       "    .dataframe tbody tr th {\n",
       "        vertical-align: top;\n",
       "    }\n",
       "\n",
       "    .dataframe thead th {\n",
       "        text-align: right;\n",
       "    }\n",
       "</style>\n",
       "<table border=\"1\" class=\"dataframe\">\n",
       "  <thead>\n",
       "    <tr style=\"text-align: right;\">\n",
       "      <th></th>\n",
       "      <th>event_id</th>\n",
       "      <th>event_type</th>\n",
       "      <th>selected_level</th>\n",
       "      <th>start_time</th>\n",
       "      <th>tutorial_id</th>\n",
       "      <th>user_id</th>\n",
       "      <th>year</th>\n",
       "    </tr>\n",
       "  </thead>\n",
       "  <tbody>\n",
       "    <tr>\n",
       "      <th>51405</th>\n",
       "      <td>80308</td>\n",
       "      <td>registration</td>\n",
       "      <td>NaN</td>\n",
       "      <td>2018-01-01 03:48:40</td>\n",
       "      <td>NaN</td>\n",
       "      <td>27832</td>\n",
       "      <td>2018</td>\n",
       "    </tr>\n",
       "    <tr>\n",
       "      <th>51406</th>\n",
       "      <td>80309</td>\n",
       "      <td>registration</td>\n",
       "      <td>NaN</td>\n",
       "      <td>2018-01-01 04:07:25</td>\n",
       "      <td>NaN</td>\n",
       "      <td>27833</td>\n",
       "      <td>2018</td>\n",
       "    </tr>\n",
       "    <tr>\n",
       "      <th>51407</th>\n",
       "      <td>80310</td>\n",
       "      <td>registration</td>\n",
       "      <td>NaN</td>\n",
       "      <td>2018-01-01 08:35:10</td>\n",
       "      <td>NaN</td>\n",
       "      <td>27834</td>\n",
       "      <td>2018</td>\n",
       "    </tr>\n",
       "    <tr>\n",
       "      <th>51408</th>\n",
       "      <td>80311</td>\n",
       "      <td>registration</td>\n",
       "      <td>NaN</td>\n",
       "      <td>2018-01-01 11:54:47</td>\n",
       "      <td>NaN</td>\n",
       "      <td>27835</td>\n",
       "      <td>2018</td>\n",
       "    </tr>\n",
       "    <tr>\n",
       "      <th>51409</th>\n",
       "      <td>80312</td>\n",
       "      <td>registration</td>\n",
       "      <td>NaN</td>\n",
       "      <td>2018-01-01 13:28:07</td>\n",
       "      <td>NaN</td>\n",
       "      <td>27836</td>\n",
       "      <td>2018</td>\n",
       "    </tr>\n",
       "    <tr>\n",
       "      <th>...</th>\n",
       "      <td>...</td>\n",
       "      <td>...</td>\n",
       "      <td>...</td>\n",
       "      <td>...</td>\n",
       "      <td>...</td>\n",
       "      <td>...</td>\n",
       "      <td>...</td>\n",
       "    </tr>\n",
       "    <tr>\n",
       "      <th>118359</th>\n",
       "      <td>147262</td>\n",
       "      <td>tutorial_start</td>\n",
       "      <td>NaN</td>\n",
       "      <td>2019-01-01 03:26:18</td>\n",
       "      <td>49554.0</td>\n",
       "      <td>47756</td>\n",
       "      <td>2019</td>\n",
       "    </tr>\n",
       "    <tr>\n",
       "      <th>118360</th>\n",
       "      <td>147263</td>\n",
       "      <td>tutorial_finish</td>\n",
       "      <td>NaN</td>\n",
       "      <td>2019-01-01 03:29:25</td>\n",
       "      <td>49554.0</td>\n",
       "      <td>47756</td>\n",
       "      <td>2019</td>\n",
       "    </tr>\n",
       "    <tr>\n",
       "      <th>118362</th>\n",
       "      <td>147265</td>\n",
       "      <td>level_choice</td>\n",
       "      <td>easy</td>\n",
       "      <td>2019-01-01 05:04:52</td>\n",
       "      <td>NaN</td>\n",
       "      <td>47755</td>\n",
       "      <td>2019</td>\n",
       "    </tr>\n",
       "    <tr>\n",
       "      <th>118363</th>\n",
       "      <td>147266</td>\n",
       "      <td>level_choice</td>\n",
       "      <td>medium</td>\n",
       "      <td>2019-01-01 05:42:11</td>\n",
       "      <td>NaN</td>\n",
       "      <td>47756</td>\n",
       "      <td>2019</td>\n",
       "    </tr>\n",
       "    <tr>\n",
       "      <th>118364</th>\n",
       "      <td>147267</td>\n",
       "      <td>pack_choice</td>\n",
       "      <td>NaN</td>\n",
       "      <td>2019-01-01 05:50:36</td>\n",
       "      <td>NaN</td>\n",
       "      <td>47756</td>\n",
       "      <td>2019</td>\n",
       "    </tr>\n",
       "  </tbody>\n",
       "</table>\n",
       "<p>66959 rows × 7 columns</p>\n",
       "</div>"
      ],
      "text/plain": [
       "        event_id       event_type selected_level          start_time  \\\n",
       "51405      80308     registration            NaN 2018-01-01 03:48:40   \n",
       "51406      80309     registration            NaN 2018-01-01 04:07:25   \n",
       "51407      80310     registration            NaN 2018-01-01 08:35:10   \n",
       "51408      80311     registration            NaN 2018-01-01 11:54:47   \n",
       "51409      80312     registration            NaN 2018-01-01 13:28:07   \n",
       "...          ...              ...            ...                 ...   \n",
       "118359    147262   tutorial_start            NaN 2019-01-01 03:26:18   \n",
       "118360    147263  tutorial_finish            NaN 2019-01-01 03:29:25   \n",
       "118362    147265     level_choice           easy 2019-01-01 05:04:52   \n",
       "118363    147266     level_choice         medium 2019-01-01 05:42:11   \n",
       "118364    147267      pack_choice            NaN 2019-01-01 05:50:36   \n",
       "\n",
       "        tutorial_id  user_id  year  \n",
       "51405           NaN    27832  2018  \n",
       "51406           NaN    27833  2018  \n",
       "51407           NaN    27834  2018  \n",
       "51408           NaN    27835  2018  \n",
       "51409           NaN    27836  2018  \n",
       "...             ...      ...   ...  \n",
       "118359      49554.0    47756  2019  \n",
       "118360      49554.0    47756  2019  \n",
       "118362          NaN    47755  2019  \n",
       "118363          NaN    47756  2019  \n",
       "118364          NaN    47756  2019  \n",
       "\n",
       "[66959 rows x 7 columns]"
      ]
     },
     "execution_count": 305,
     "metadata": {},
     "output_type": "execute_result"
    }
   ],
   "source": [
    "events_df"
   ]
  },
  {
   "cell_type": "code",
   "execution_count": 306,
   "metadata": {},
   "outputs": [
    {
     "data": {
      "text/html": [
       "<div>\n",
       "<style scoped>\n",
       "    .dataframe tbody tr th:only-of-type {\n",
       "        vertical-align: middle;\n",
       "    }\n",
       "\n",
       "    .dataframe tbody tr th {\n",
       "        vertical-align: top;\n",
       "    }\n",
       "\n",
       "    .dataframe thead th {\n",
       "        text-align: right;\n",
       "    }\n",
       "</style>\n",
       "<table border=\"1\" class=\"dataframe\">\n",
       "  <thead>\n",
       "    <tr style=\"text-align: right;\">\n",
       "      <th></th>\n",
       "      <th>purchase_id</th>\n",
       "      <th>user_id</th>\n",
       "      <th>event_datetime</th>\n",
       "      <th>amount</th>\n",
       "      <th>event_type</th>\n",
       "    </tr>\n",
       "  </thead>\n",
       "  <tbody>\n",
       "    <tr>\n",
       "      <th>1171</th>\n",
       "      <td>16845</td>\n",
       "      <td>27845</td>\n",
       "      <td>2018-01-03 18:53:43</td>\n",
       "      <td>100</td>\n",
       "      <td>purchase</td>\n",
       "    </tr>\n",
       "    <tr>\n",
       "      <th>1172</th>\n",
       "      <td>16846</td>\n",
       "      <td>27865</td>\n",
       "      <td>2018-01-04 14:46:10</td>\n",
       "      <td>250</td>\n",
       "      <td>purchase</td>\n",
       "    </tr>\n",
       "    <tr>\n",
       "      <th>1174</th>\n",
       "      <td>16848</td>\n",
       "      <td>27911</td>\n",
       "      <td>2018-01-07 08:19:12</td>\n",
       "      <td>50</td>\n",
       "      <td>purchase</td>\n",
       "    </tr>\n",
       "    <tr>\n",
       "      <th>1175</th>\n",
       "      <td>16849</td>\n",
       "      <td>27910</td>\n",
       "      <td>2018-01-07 12:11:34</td>\n",
       "      <td>100</td>\n",
       "      <td>purchase</td>\n",
       "    </tr>\n",
       "    <tr>\n",
       "      <th>1176</th>\n",
       "      <td>16850</td>\n",
       "      <td>27940</td>\n",
       "      <td>2018-01-07 13:16:41</td>\n",
       "      <td>200</td>\n",
       "      <td>purchase</td>\n",
       "    </tr>\n",
       "    <tr>\n",
       "      <th>...</th>\n",
       "      <td>...</td>\n",
       "      <td>...</td>\n",
       "      <td>...</td>\n",
       "      <td>...</td>\n",
       "      <td>...</td>\n",
       "    </tr>\n",
       "    <tr>\n",
       "      <th>2767</th>\n",
       "      <td>18441</td>\n",
       "      <td>47498</td>\n",
       "      <td>2019-01-02 03:48:19</td>\n",
       "      <td>100</td>\n",
       "      <td>purchase</td>\n",
       "    </tr>\n",
       "    <tr>\n",
       "      <th>2768</th>\n",
       "      <td>18442</td>\n",
       "      <td>47647</td>\n",
       "      <td>2019-01-02 23:26:26</td>\n",
       "      <td>150</td>\n",
       "      <td>purchase</td>\n",
       "    </tr>\n",
       "    <tr>\n",
       "      <th>2769</th>\n",
       "      <td>18443</td>\n",
       "      <td>47554</td>\n",
       "      <td>2019-01-03 00:36:36</td>\n",
       "      <td>50</td>\n",
       "      <td>purchase</td>\n",
       "    </tr>\n",
       "    <tr>\n",
       "      <th>2774</th>\n",
       "      <td>18448</td>\n",
       "      <td>47742</td>\n",
       "      <td>2019-01-04 12:51:41</td>\n",
       "      <td>50</td>\n",
       "      <td>purchase</td>\n",
       "    </tr>\n",
       "    <tr>\n",
       "      <th>2778</th>\n",
       "      <td>18452</td>\n",
       "      <td>47732</td>\n",
       "      <td>2019-01-06 07:14:25</td>\n",
       "      <td>150</td>\n",
       "      <td>purchase</td>\n",
       "    </tr>\n",
       "  </tbody>\n",
       "</table>\n",
       "<p>1600 rows × 5 columns</p>\n",
       "</div>"
      ],
      "text/plain": [
       "      purchase_id  user_id      event_datetime  amount event_type\n",
       "1171        16845    27845 2018-01-03 18:53:43     100   purchase\n",
       "1172        16846    27865 2018-01-04 14:46:10     250   purchase\n",
       "1174        16848    27911 2018-01-07 08:19:12      50   purchase\n",
       "1175        16849    27910 2018-01-07 12:11:34     100   purchase\n",
       "1176        16850    27940 2018-01-07 13:16:41     200   purchase\n",
       "...           ...      ...                 ...     ...        ...\n",
       "2767        18441    47498 2019-01-02 03:48:19     100   purchase\n",
       "2768        18442    47647 2019-01-02 23:26:26     150   purchase\n",
       "2769        18443    47554 2019-01-03 00:36:36      50   purchase\n",
       "2774        18448    47742 2019-01-04 12:51:41      50   purchase\n",
       "2778        18452    47732 2019-01-06 07:14:25     150   purchase\n",
       "\n",
       "[1600 rows x 5 columns]"
      ]
     },
     "execution_count": 306,
     "metadata": {},
     "output_type": "execute_result"
    }
   ],
   "source": [
    "purchase_df"
   ]
  },
  {
   "cell_type": "markdown",
   "metadata": {},
   "source": [
    "#### Проверка, нет ли повторений"
   ]
  },
  {
   "cell_type": "code",
   "execution_count": 307,
   "metadata": {},
   "outputs": [
    {
     "name": "stdout",
     "output_type": "stream",
     "text": [
      "1.0\n",
      "1.0\n",
      "1.0\n"
     ]
    }
   ],
   "source": [
    "print(purchase_df['user_id'].value_counts().mean())\n",
    "print(events_df[events_df['event_type']=='level_choice']['user_id'].value_counts().mean())\n",
    "print(events_df[events_df['event_type']=='registration']['user_id'].value_counts().mean())"
   ]
  },
  {
   "cell_type": "markdown",
   "metadata": {},
   "source": [
    "### 1.Проверим зависит ли вероятность оплаты от выбранного пользователем уровня сложности?"
   ]
  },
  {
   "cell_type": "code",
   "execution_count": 308,
   "metadata": {},
   "outputs": [
    {
     "data": {
      "text/plain": [
       "medium    4645\n",
       "easy      2448\n",
       "hard      1249\n",
       "Name: selected_level, dtype: int64"
      ]
     },
     "execution_count": 308,
     "metadata": {},
     "output_type": "execute_result"
    }
   ],
   "source": [
    "events_df['selected_level'].value_counts()"
   ]
  },
  {
   "cell_type": "code",
   "execution_count": 309,
   "metadata": {},
   "outputs": [],
   "source": [
    "selected_level_easy = events_df[events_df['selected_level']=='easy']\n",
    "selected_level_easy = selected_level_easy[['user_id','start_time']].rename(columns={'start_time':'selected_level_easy_time'})\n",
    "\n",
    "selected_level_medium = events_df[events_df['selected_level']=='medium']\n",
    "selected_level_medium = selected_level_medium[['user_id','start_time']].rename(columns={'start_time':'selected_level_medium_time'})\n",
    "\n",
    "selected_level_hard = events_df[events_df['selected_level']=='hard']\n",
    "selected_level_hard = selected_level_hard[['user_id','start_time']].rename(columns={'start_time':'selected_level_hard_time'})"
   ]
  },
  {
   "cell_type": "code",
   "execution_count": 310,
   "metadata": {},
   "outputs": [
    {
     "data": {
      "text/plain": [
       "1249"
      ]
     },
     "execution_count": 310,
     "metadata": {},
     "output_type": "execute_result"
    }
   ],
   "source": [
    "len(selected_level_hard)"
   ]
  },
  {
   "cell_type": "code",
   "execution_count": 311,
   "metadata": {},
   "outputs": [],
   "source": [
    "purchase_df_easy = purchase_df[purchase_df['user_id'].isin(selected_level_easy['user_id'])]\n",
    "\n",
    "purchase_df_medium = purchase_df[purchase_df['user_id'].isin(selected_level_medium['user_id'])]\n",
    "\n",
    "purchase_df_hard = purchase_df[purchase_df['user_id'].isin(selected_level_hard['user_id'])]"
   ]
  },
  {
   "cell_type": "markdown",
   "metadata": {},
   "source": [
    "#### Проверяем сумму"
   ]
  },
  {
   "cell_type": "code",
   "execution_count": 312,
   "metadata": {},
   "outputs": [
    {
     "data": {
      "text/plain": [
       "True"
      ]
     },
     "execution_count": 312,
     "metadata": {},
     "output_type": "execute_result"
    }
   ],
   "source": [
    "test2_df = events_df[events_df['event_type']=='level_choice']['user_id'].nunique()\n",
    "len(selected_level_easy) + len(selected_level_medium) + len(selected_level_hard) == test2_df"
   ]
  },
  {
   "cell_type": "code",
   "execution_count": 313,
   "metadata": {},
   "outputs": [
    {
     "data": {
      "text/plain": [
       "True"
      ]
     },
     "execution_count": 313,
     "metadata": {},
     "output_type": "execute_result"
    }
   ],
   "source": [
    "events_level_choice_df = events_df[events_df['event_type']=='level_choice']['user_id'].unique()\n",
    "test1_df = purchase_df[purchase_df['user_id'].isin(events_level_choice_df)]\n",
    "purchase_df_easy['user_id'].nunique() + purchase_df_medium['user_id'].nunique() + purchase_df_hard['user_id'].nunique() == len(test1_df)"
   ]
  },
  {
   "cell_type": "markdown",
   "metadata": {},
   "source": [
    "#### Процент пользователей, которые оплатили тренировки"
   ]
  },
  {
   "cell_type": "code",
   "execution_count": 314,
   "metadata": {},
   "outputs": [],
   "source": [
    "a = purchase_df_easy['user_id'].nunique()/len(selected_level_easy['user_id'].unique())\n",
    "b = purchase_df_medium['user_id'].nunique()/len(selected_level_medium['user_id'].unique())\n",
    "c = purchase_df_hard['user_id'].nunique()/len(selected_level_hard['user_id'].unique())\n",
    "tips_per_day = {'Купившие':[purchase_df_easy['user_id'].nunique(),purchase_df_medium['user_id'].nunique(),purchase_df_hard['user_id'].nunique()],\n",
    "                'Все':[len(selected_level_easy['user_id'].unique()),len(selected_level_medium['user_id'].unique()),len(selected_level_hard['user_id'].unique())],\n",
    "                'Сложность':['easy', 'medium', 'hard']}\n",
    "tips_per_day_df = pd.DataFrame(data=tips_per_day)"
   ]
  },
  {
   "cell_type": "code",
   "execution_count": 315,
   "metadata": {},
   "outputs": [
    {
     "name": "stdout",
     "output_type": "stream",
     "text": [
      "189\n",
      "Процент пользователей, которые оплатили пакеты вопросов (от числа выбравших лёгкую сложность): 7.72%\n"
     ]
    }
   ],
   "source": [
    "print(purchase_df_easy['user_id'].nunique())\n",
    "print ('Процент пользователей, которые оплатили пакеты вопросов (от числа выбравших лёгкую сложность): {:.2%}'.format(a))"
   ]
  },
  {
   "cell_type": "code",
   "execution_count": 316,
   "metadata": {},
   "outputs": [
    {
     "name": "stdout",
     "output_type": "stream",
     "text": [
      "969\n",
      "Процент пользователей, которые оплатили пакеты вопросов (от числа выбравших среднею сложность): 20.86%\n"
     ]
    }
   ],
   "source": [
    "print(purchase_df_medium['user_id'].nunique())\n",
    "print ('Процент пользователей, которые оплатили пакеты вопросов (от числа выбравших среднею сложность): {:.2%}'.format(b))"
   ]
  },
  {
   "cell_type": "code",
   "execution_count": 317,
   "metadata": {},
   "outputs": [
    {
     "name": "stdout",
     "output_type": "stream",
     "text": [
      "442\n",
      "Процент пользователей, которые оплатили пакеты вопросов (от числа выбравших тяжолую сложность): 35.39%\n"
     ]
    }
   ],
   "source": [
    "print(purchase_df_hard['user_id'].nunique())\n",
    "print ('Процент пользователей, которые оплатили пакеты вопросов (от числа выбравших тяжолую сложность): {:.2%}'.format(c))"
   ]
  },
  {
   "cell_type": "markdown",
   "metadata": {},
   "source": [
    "#### Среднее время между событиями оплаты и выбором уровня сложности"
   ]
  },
  {
   "cell_type": "code",
   "execution_count": 318,
   "metadata": {},
   "outputs": [],
   "source": [
    "purchase_df = purchase_df[['user_id','event_datetime','amount']].rename(columns={'event_datetime':'purchase_time'})"
   ]
  },
  {
   "cell_type": "code",
   "execution_count": 319,
   "metadata": {},
   "outputs": [],
   "source": [
    "events_level_choice_df = events_df[events_df['event_type']=='level_choice']\n",
    "events_purchase_level_choice_df = events_level_choice_df[['user_id','start_time']].rename(columns={'start_time':'level_choice_time'})\n",
    "purchase_level_choice_df = events_purchase_level_choice_df.merge(purchase_df,on='user_id',how='inner')"
   ]
  },
  {
   "cell_type": "code",
   "execution_count": 320,
   "metadata": {},
   "outputs": [],
   "source": [
    "purchase_level_choice_df['timedelta'] = purchase_level_choice_df['purchase_time'] - purchase_level_choice_df['level_choice_time']"
   ]
  },
  {
   "cell_type": "code",
   "execution_count": 321,
   "metadata": {},
   "outputs": [
    {
     "data": {
      "text/html": [
       "<div>\n",
       "<style scoped>\n",
       "    .dataframe tbody tr th:only-of-type {\n",
       "        vertical-align: middle;\n",
       "    }\n",
       "\n",
       "    .dataframe tbody tr th {\n",
       "        vertical-align: top;\n",
       "    }\n",
       "\n",
       "    .dataframe thead th {\n",
       "        text-align: right;\n",
       "    }\n",
       "</style>\n",
       "<table border=\"1\" class=\"dataframe\">\n",
       "  <thead>\n",
       "    <tr style=\"text-align: right;\">\n",
       "      <th></th>\n",
       "      <th>user_id</th>\n",
       "      <th>level_choice_time</th>\n",
       "      <th>purchase_time</th>\n",
       "      <th>amount</th>\n",
       "      <th>timedelta</th>\n",
       "    </tr>\n",
       "  </thead>\n",
       "  <tbody>\n",
       "    <tr>\n",
       "      <th>0</th>\n",
       "      <td>27845</td>\n",
       "      <td>2018-01-02 06:19:18</td>\n",
       "      <td>2018-01-03 18:53:43</td>\n",
       "      <td>100</td>\n",
       "      <td>1 days 12:34:25</td>\n",
       "    </tr>\n",
       "    <tr>\n",
       "      <th>1</th>\n",
       "      <td>27865</td>\n",
       "      <td>2018-01-04 05:56:32</td>\n",
       "      <td>2018-01-04 14:46:10</td>\n",
       "      <td>250</td>\n",
       "      <td>0 days 08:49:38</td>\n",
       "    </tr>\n",
       "    <tr>\n",
       "      <th>2</th>\n",
       "      <td>27884</td>\n",
       "      <td>2018-01-04 16:18:39</td>\n",
       "      <td>2018-01-08 19:37:34</td>\n",
       "      <td>150</td>\n",
       "      <td>4 days 03:18:55</td>\n",
       "    </tr>\n",
       "    <tr>\n",
       "      <th>3</th>\n",
       "      <td>27910</td>\n",
       "      <td>2018-01-05 11:59:50</td>\n",
       "      <td>2018-01-07 12:11:34</td>\n",
       "      <td>100</td>\n",
       "      <td>2 days 00:11:44</td>\n",
       "    </tr>\n",
       "    <tr>\n",
       "      <th>4</th>\n",
       "      <td>27911</td>\n",
       "      <td>2018-01-05 17:39:02</td>\n",
       "      <td>2018-01-07 08:19:12</td>\n",
       "      <td>50</td>\n",
       "      <td>1 days 14:40:10</td>\n",
       "    </tr>\n",
       "    <tr>\n",
       "      <th>...</th>\n",
       "      <td>...</td>\n",
       "      <td>...</td>\n",
       "      <td>...</td>\n",
       "      <td>...</td>\n",
       "      <td>...</td>\n",
       "    </tr>\n",
       "    <tr>\n",
       "      <th>1595</th>\n",
       "      <td>47659</td>\n",
       "      <td>2018-12-29 05:10:29</td>\n",
       "      <td>2018-12-31 17:13:54</td>\n",
       "      <td>100</td>\n",
       "      <td>2 days 12:03:25</td>\n",
       "    </tr>\n",
       "    <tr>\n",
       "      <th>1596</th>\n",
       "      <td>47687</td>\n",
       "      <td>2018-12-29 11:37:35</td>\n",
       "      <td>2018-12-30 09:05:28</td>\n",
       "      <td>100</td>\n",
       "      <td>0 days 21:27:53</td>\n",
       "    </tr>\n",
       "    <tr>\n",
       "      <th>1597</th>\n",
       "      <td>47712</td>\n",
       "      <td>2018-12-29 22:44:06</td>\n",
       "      <td>2018-12-31 09:05:20</td>\n",
       "      <td>50</td>\n",
       "      <td>1 days 10:21:14</td>\n",
       "    </tr>\n",
       "    <tr>\n",
       "      <th>1598</th>\n",
       "      <td>47742</td>\n",
       "      <td>2018-12-31 04:58:15</td>\n",
       "      <td>2019-01-04 12:51:41</td>\n",
       "      <td>50</td>\n",
       "      <td>4 days 07:53:26</td>\n",
       "    </tr>\n",
       "    <tr>\n",
       "      <th>1599</th>\n",
       "      <td>47732</td>\n",
       "      <td>2018-12-31 09:59:00</td>\n",
       "      <td>2019-01-06 07:14:25</td>\n",
       "      <td>150</td>\n",
       "      <td>5 days 21:15:25</td>\n",
       "    </tr>\n",
       "  </tbody>\n",
       "</table>\n",
       "<p>1600 rows × 5 columns</p>\n",
       "</div>"
      ],
      "text/plain": [
       "      user_id   level_choice_time       purchase_time  amount       timedelta\n",
       "0       27845 2018-01-02 06:19:18 2018-01-03 18:53:43     100 1 days 12:34:25\n",
       "1       27865 2018-01-04 05:56:32 2018-01-04 14:46:10     250 0 days 08:49:38\n",
       "2       27884 2018-01-04 16:18:39 2018-01-08 19:37:34     150 4 days 03:18:55\n",
       "3       27910 2018-01-05 11:59:50 2018-01-07 12:11:34     100 2 days 00:11:44\n",
       "4       27911 2018-01-05 17:39:02 2018-01-07 08:19:12      50 1 days 14:40:10\n",
       "...       ...                 ...                 ...     ...             ...\n",
       "1595    47659 2018-12-29 05:10:29 2018-12-31 17:13:54     100 2 days 12:03:25\n",
       "1596    47687 2018-12-29 11:37:35 2018-12-30 09:05:28     100 0 days 21:27:53\n",
       "1597    47712 2018-12-29 22:44:06 2018-12-31 09:05:20      50 1 days 10:21:14\n",
       "1598    47742 2018-12-31 04:58:15 2019-01-04 12:51:41      50 4 days 07:53:26\n",
       "1599    47732 2018-12-31 09:59:00 2019-01-06 07:14:25     150 5 days 21:15:25\n",
       "\n",
       "[1600 rows x 5 columns]"
      ]
     },
     "execution_count": 321,
     "metadata": {},
     "output_type": "execute_result"
    }
   ],
   "source": [
    "purchase_level_choice_df"
   ]
  },
  {
   "cell_type": "code",
   "execution_count": 322,
   "metadata": {},
   "outputs": [],
   "source": [
    "easy = purchase_df_easy['user_id'].unique()\n",
    "medium = purchase_df_medium['user_id'].unique()\n",
    "hard = purchase_df_hard['user_id'].unique()"
   ]
  },
  {
   "cell_type": "code",
   "execution_count": 323,
   "metadata": {},
   "outputs": [],
   "source": [
    "plc_easy_df = purchase_level_choice_df[purchase_level_choice_df['user_id'].isin(easy)]\n",
    "plc_medium_df = purchase_level_choice_df[purchase_level_choice_df['user_id'].isin(medium)]\n",
    "plc_hard_df = purchase_level_choice_df[purchase_level_choice_df['user_id'].isin(hard)]"
   ]
  },
  {
   "cell_type": "code",
   "execution_count": 324,
   "metadata": {},
   "outputs": [
    {
     "name": "stdout",
     "output_type": "stream",
     "text": [
      "3 days 14:58:52.941798941\n"
     ]
    }
   ],
   "source": [
    "plc_easy = plc_easy_df['timedelta'].mean()\n",
    "print('{}'.format(plc_easy))"
   ]
  },
  {
   "cell_type": "code",
   "execution_count": 325,
   "metadata": {},
   "outputs": [
    {
     "name": "stdout",
     "output_type": "stream",
     "text": [
      "3 days 23:14:13.165118679\n"
     ]
    }
   ],
   "source": [
    "plc_medium = plc_medium_df['timedelta'].mean()\n",
    "print('{}'.format(plc_medium))"
   ]
  },
  {
   "cell_type": "code",
   "execution_count": 326,
   "metadata": {},
   "outputs": [
    {
     "name": "stdout",
     "output_type": "stream",
     "text": [
      "3 days 07:20:41.420814479\n"
     ]
    }
   ],
   "source": [
    "plc_hard = plc_hard_df['timedelta'].mean()\n",
    "print('{}'.format(plc_hard))"
   ]
  },
  {
   "cell_type": "markdown",
   "metadata": {},
   "source": [
    "### 2.Существует ли разница во времени между событиями регистрации и оплаты для разных групп пользователей с разным уровнем сложности?"
   ]
  },
  {
   "cell_type": "code",
   "execution_count": 327,
   "metadata": {},
   "outputs": [],
   "source": [
    "events_registration_df = events_df[events_df['event_type']=='registration']"
   ]
  },
  {
   "cell_type": "code",
   "execution_count": 328,
   "metadata": {},
   "outputs": [],
   "source": [
    "events_purchase_registration_df = events_registration_df[['user_id','start_time']].rename(columns={'start_time':'registration_time'})"
   ]
  },
  {
   "cell_type": "code",
   "execution_count": 329,
   "metadata": {},
   "outputs": [],
   "source": [
    "purchase_registration_df = events_purchase_registration_df.merge(purchase_df,on='user_id',how='inner')\n",
    "purchase_registration_df['timedelta'] = purchase_registration_df['purchase_time'] - purchase_registration_df['registration_time']"
   ]
  },
  {
   "cell_type": "code",
   "execution_count": 330,
   "metadata": {},
   "outputs": [
    {
     "data": {
      "text/html": [
       "<div>\n",
       "<style scoped>\n",
       "    .dataframe tbody tr th:only-of-type {\n",
       "        vertical-align: middle;\n",
       "    }\n",
       "\n",
       "    .dataframe tbody tr th {\n",
       "        vertical-align: top;\n",
       "    }\n",
       "\n",
       "    .dataframe thead th {\n",
       "        text-align: right;\n",
       "    }\n",
       "</style>\n",
       "<table border=\"1\" class=\"dataframe\">\n",
       "  <thead>\n",
       "    <tr style=\"text-align: right;\">\n",
       "      <th></th>\n",
       "      <th>user_id</th>\n",
       "      <th>registration_time</th>\n",
       "      <th>purchase_time</th>\n",
       "      <th>amount</th>\n",
       "      <th>timedelta</th>\n",
       "    </tr>\n",
       "  </thead>\n",
       "  <tbody>\n",
       "    <tr>\n",
       "      <th>0</th>\n",
       "      <td>27845</td>\n",
       "      <td>2018-01-02 01:35:56</td>\n",
       "      <td>2018-01-03 18:53:43</td>\n",
       "      <td>100</td>\n",
       "      <td>1 days 17:17:47</td>\n",
       "    </tr>\n",
       "    <tr>\n",
       "      <th>1</th>\n",
       "      <td>27865</td>\n",
       "      <td>2018-01-03 11:14:57</td>\n",
       "      <td>2018-01-04 14:46:10</td>\n",
       "      <td>250</td>\n",
       "      <td>1 days 03:31:13</td>\n",
       "    </tr>\n",
       "    <tr>\n",
       "      <th>2</th>\n",
       "      <td>27884</td>\n",
       "      <td>2018-01-04 11:50:43</td>\n",
       "      <td>2018-01-08 19:37:34</td>\n",
       "      <td>150</td>\n",
       "      <td>4 days 07:46:51</td>\n",
       "    </tr>\n",
       "    <tr>\n",
       "      <th>3</th>\n",
       "      <td>27910</td>\n",
       "      <td>2018-01-05 10:45:33</td>\n",
       "      <td>2018-01-07 12:11:34</td>\n",
       "      <td>100</td>\n",
       "      <td>2 days 01:26:01</td>\n",
       "    </tr>\n",
       "    <tr>\n",
       "      <th>4</th>\n",
       "      <td>27911</td>\n",
       "      <td>2018-01-05 10:48:24</td>\n",
       "      <td>2018-01-07 08:19:12</td>\n",
       "      <td>50</td>\n",
       "      <td>1 days 21:30:48</td>\n",
       "    </tr>\n",
       "    <tr>\n",
       "      <th>...</th>\n",
       "      <td>...</td>\n",
       "      <td>...</td>\n",
       "      <td>...</td>\n",
       "      <td>...</td>\n",
       "      <td>...</td>\n",
       "    </tr>\n",
       "    <tr>\n",
       "      <th>1595</th>\n",
       "      <td>47671</td>\n",
       "      <td>2018-12-28 20:48:59</td>\n",
       "      <td>2018-12-30 01:39:50</td>\n",
       "      <td>200</td>\n",
       "      <td>1 days 04:50:51</td>\n",
       "    </tr>\n",
       "    <tr>\n",
       "      <th>1596</th>\n",
       "      <td>47687</td>\n",
       "      <td>2018-12-29 09:49:24</td>\n",
       "      <td>2018-12-30 09:05:28</td>\n",
       "      <td>100</td>\n",
       "      <td>0 days 23:16:04</td>\n",
       "    </tr>\n",
       "    <tr>\n",
       "      <th>1597</th>\n",
       "      <td>47712</td>\n",
       "      <td>2018-12-29 18:21:28</td>\n",
       "      <td>2018-12-31 09:05:20</td>\n",
       "      <td>50</td>\n",
       "      <td>1 days 14:43:52</td>\n",
       "    </tr>\n",
       "    <tr>\n",
       "      <th>1598</th>\n",
       "      <td>47732</td>\n",
       "      <td>2018-12-30 14:20:21</td>\n",
       "      <td>2019-01-06 07:14:25</td>\n",
       "      <td>150</td>\n",
       "      <td>6 days 16:54:04</td>\n",
       "    </tr>\n",
       "    <tr>\n",
       "      <th>1599</th>\n",
       "      <td>47742</td>\n",
       "      <td>2018-12-30 20:48:42</td>\n",
       "      <td>2019-01-04 12:51:41</td>\n",
       "      <td>50</td>\n",
       "      <td>4 days 16:02:59</td>\n",
       "    </tr>\n",
       "  </tbody>\n",
       "</table>\n",
       "<p>1600 rows × 5 columns</p>\n",
       "</div>"
      ],
      "text/plain": [
       "      user_id   registration_time       purchase_time  amount       timedelta\n",
       "0       27845 2018-01-02 01:35:56 2018-01-03 18:53:43     100 1 days 17:17:47\n",
       "1       27865 2018-01-03 11:14:57 2018-01-04 14:46:10     250 1 days 03:31:13\n",
       "2       27884 2018-01-04 11:50:43 2018-01-08 19:37:34     150 4 days 07:46:51\n",
       "3       27910 2018-01-05 10:45:33 2018-01-07 12:11:34     100 2 days 01:26:01\n",
       "4       27911 2018-01-05 10:48:24 2018-01-07 08:19:12      50 1 days 21:30:48\n",
       "...       ...                 ...                 ...     ...             ...\n",
       "1595    47671 2018-12-28 20:48:59 2018-12-30 01:39:50     200 1 days 04:50:51\n",
       "1596    47687 2018-12-29 09:49:24 2018-12-30 09:05:28     100 0 days 23:16:04\n",
       "1597    47712 2018-12-29 18:21:28 2018-12-31 09:05:20      50 1 days 14:43:52\n",
       "1598    47732 2018-12-30 14:20:21 2019-01-06 07:14:25     150 6 days 16:54:04\n",
       "1599    47742 2018-12-30 20:48:42 2019-01-04 12:51:41      50 4 days 16:02:59\n",
       "\n",
       "[1600 rows x 5 columns]"
      ]
     },
     "execution_count": 330,
     "metadata": {},
     "output_type": "execute_result"
    }
   ],
   "source": [
    "purchase_registration_df"
   ]
  },
  {
   "cell_type": "code",
   "execution_count": 331,
   "metadata": {},
   "outputs": [],
   "source": [
    "pr_easy_df = purchase_registration_df[purchase_registration_df['user_id'].isin(easy)]\n",
    "pr_medium_df = purchase_registration_df[purchase_registration_df['user_id'].isin(medium)]\n",
    "pr_hard_df = purchase_registration_df[purchase_registration_df['user_id'].isin(hard)]"
   ]
  },
  {
   "cell_type": "markdown",
   "metadata": {},
   "source": [
    "####  Проверка"
   ]
  },
  {
   "cell_type": "code",
   "execution_count": 332,
   "metadata": {},
   "outputs": [
    {
     "name": "stdout",
     "output_type": "stream",
     "text": [
      "189\n",
      "969\n",
      "442\n",
      "189\n",
      "969\n",
      "442\n"
     ]
    }
   ],
   "source": [
    "print(purchase_df_easy['user_id'].nunique())\n",
    "print(purchase_df_medium['user_id'].nunique())\n",
    "print(purchase_df_hard['user_id'].nunique())\n",
    "print(len(pr_easy_df))\n",
    "print(len(pr_medium_df))\n",
    "print(len(pr_hard_df))"
   ]
  },
  {
   "cell_type": "markdown",
   "metadata": {},
   "source": [
    "#### События регистрации и оплаты для разных групп пользователей с разным уровнем сложности"
   ]
  },
  {
   "cell_type": "code",
   "execution_count": 333,
   "metadata": {},
   "outputs": [
    {
     "name": "stdout",
     "output_type": "stream",
     "text": [
      "3 days 22:10:23.211640211\n"
     ]
    }
   ],
   "source": [
    "pr_easy = pr_easy_df['timedelta'].mean()\n",
    "print('{}'.format(pr_easy))"
   ]
  },
  {
   "cell_type": "code",
   "execution_count": 334,
   "metadata": {},
   "outputs": [
    {
     "name": "stdout",
     "output_type": "stream",
     "text": [
      "4 days 06:12:06.576883384\n"
     ]
    }
   ],
   "source": [
    "pr_medium = pr_medium_df['timedelta'].mean()\n",
    "print('{}'.format(pr_medium))"
   ]
  },
  {
   "cell_type": "code",
   "execution_count": 335,
   "metadata": {},
   "outputs": [
    {
     "name": "stdout",
     "output_type": "stream",
     "text": [
      "3 days 14:55:19.257918552\n"
     ]
    }
   ],
   "source": [
    "pr_hard = pr_hard_df['timedelta'].mean()\n",
    "print('{}'.format(pr_hard))"
   ]
  },
  {
   "cell_type": "markdown",
   "metadata": {},
   "source": [
    "### Выводы \n",
    " \n",
    "#### 1.Проверим зависит ли вероятность оплаты от выбранного пользователем уровня сложности?\n",
    "\n",
    "Процент пользователей, которые оплатили пакеты вопросов\n",
    "    \n",
    "        от общего числа выбравших лёгкую сложность: 7.72%\n",
    "        от общего числа выбравших среднею сложность: 20.86%\n",
    "        от общкго числа выбравших тяжолую сложность: 35.39%\n",
    "Пользователи, которые выбрали тяжелый уровень сложности чаще покупали пакеты вопросов. Выбравшие \n",
    "лёгкий - чаще не совершали оплату. Рекомендую выделить в интерфейсе кнопку выбора \"тяжелого\" уровня\n",
    "и скрыть \"лёгкий\" внизу экрана-страницы. График наглядно демонстрирует визуализацию.\n",
    "\n",
    "Между выбором уровня сложности и оплатили пакеты вопросов в среднем проходит \n",
    "    \n",
    "        для выбравших лёгкую сложность: 3 дня 14:58:52.\n",
    "        для выбравших среднею сложность: 3 дня 23:14:13.\n",
    "        для выбравших тяжолую сложность: 3 дня 07:20:41.\n",
    "Пользователи, которые более всего склоны к покупке провели в приложении почти 4 дня пред её совершением. Выбравшие \"сложный\" уровень тренировок платили в 18% процентах случаев, и имеют меньшее время: в среднем 3 дня 7 часов. Из этого следует, что выбор уровня сложности и оплата пакетов вопросов в среднем, не имеют взаимосвязи со временем, проведенным в приложении до оплаты.\n",
    "\n",
    " \n",
    "#### 2.Существует ли разница во времени между событиями регистрации и оплаты для разных групп пользователей с разным уровнем сложности?\n",
    "\n",
    "Между регистрацией и оплатой тренировки в среднем проходит времени\n",
    "    \n",
    "        для выбравших лёгкую сложность: 3 дня 22:10:23.\n",
    "        для выбравших среднею сложность: 4 дня 06:12:06.\n",
    "        для выбравших тяжолую сложность: 3 дня 14:55:19.\n",
    "Тут группа \"средней\" сложности показала, что чем больше времени они провели в приложении, тем выше вероятность покупки. \n",
    "Это значит что стоит предложить команде по разработке увеличить время до попадания пользователя на этап покупки."
   ]
  },
  {
   "cell_type": "code",
   "execution_count": 336,
   "metadata": {},
   "outputs": [
    {
     "data": {
      "text/plain": [
       "Text(0.5, 1.0, 'Общая сумма пользователей и заплатившие от числа общего')"
      ]
     },
     "execution_count": 336,
     "metadata": {},
     "output_type": "execute_result"
    },
    {
     "data": {
      "image/png": "[encoded data removed]",
      "text/plain": [
       "<Figure size 432x288 with 1 Axes>"
      ]
     },
     "metadata": {
      "needs_background": "light"
     },
     "output_type": "display_data"
    }
   ],
   "source": [
    "#z = ['7.72%','20.86%','35.39%']\n",
    "fig = plt.figure()\n",
    "axes = fig.add_axes([0, 0, 1, 1])\n",
    "axes.bar(x = tips_per_day_df['Сложность'], height = tips_per_day_df['Купившие'], \n",
    "         width = 0.4, align = 'edge', label = 'Совершившие покупку')\n",
    "axes.bar(x = tips_per_day['Сложность'], height = tips_per_day_df['Все'], \n",
    "         width = -0.4, align = 'edge', label = 'Всего выбравших данную сложность')\n",
    "axes.legend(loc = 1)\n",
    "axes.set_title('Общая сумма пользователей и заплатившие от числа общего')"
   ]
  }
 ],
 "metadata": {
  "kernelspec": {
   "display_name": "Python 3",
   "language": "python",
   "name": "python3"
  },
  "language_info": {
   "codemirror_mode": {
    "name": "ipython",
    "version": 3
   },
   "file_extension": ".py",
   "mimetype": "text/x-python",
   "name": "python",
   "nbconvert_exporter": "python",
   "pygments_lexer": "ipython3",
   "version": "3.8.5"
  }
 },
 "nbformat": 4,
 "nbformat_minor": 4
}
