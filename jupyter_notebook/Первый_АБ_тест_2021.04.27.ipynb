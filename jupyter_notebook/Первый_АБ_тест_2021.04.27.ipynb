{
 "cells": [
  {
   "cell_type": "markdown",
   "metadata": {},
   "source": [
    "## Расчёт статистической значимости\n",
    "1. Насколько различаются конверсия, средний чек и ARPU пользователей в группах А и Б (ID теста 127, даты проведения: с 2019-08-05 до 2019-08-11 включительно).\n",
    "2. Выводы по анализу."
   ]
  },
  {
   "cell_type": "code",
   "execution_count": 1,
   "metadata": {},
   "outputs": [],
   "source": [
    "# импорт\n",
    "import pandas as pd\n",
    "import numpy as np\n",
    "import matplotlib.pyplot as plt\n",
    "from scipy import stats\n",
    "from statsmodels.stats.proportion import proportion_confint\n",
    "from statsmodels.stats.weightstats import ztest\n",
    "from datetime import datetime\n",
    "from matplotlib import gridspec\n",
    "from math import ceil"
   ]
  },
  {
   "cell_type": "code",
   "execution_count": 2,
   "metadata": {},
   "outputs": [],
   "source": [
    "pd.options.display.float_format = '{:,.4f}'.format #3.514284e+05 -> 351,428.4000"
   ]
  },
  {
   "cell_type": "code",
   "execution_count": 3,
   "metadata": {},
   "outputs": [],
   "source": [
    "ab_test_groups = pd.read_csv('ab_test_groups.csv') # аб тест"
   ]
  },
  {
   "cell_type": "code",
   "execution_count": 4,
   "metadata": {},
   "outputs": [],
   "source": [
    "payments = pd.read_csv('payments.csv')# платежи"
   ]
  },
  {
   "cell_type": "code",
   "execution_count": 5,
   "metadata": {},
   "outputs": [],
   "source": [
    "# фильтр\n",
    "ab_test_groups = ab_test_groups.loc[ab_test_groups.ab_test_id == 127] # test 127\n",
    "# 2019-08-(05,...,11)\n",
    "payments = payments[(payments.created_at.astype(str) >= '2019-08-05')&(payments.created_at.astype(str) < '2019-08-12')][['user_id', 'price']]"
   ]
  },
  {
   "cell_type": "code",
   "execution_count": 6,
   "metadata": {},
   "outputs": [],
   "source": [
    "# group by по user_id\n",
    "payments = payments.groupby('user_id',as_index = False).sum()\n",
    "# join\n",
    "ab_data = ab_test_groups.merge(payments, on = 'user_id', how = 'left')"
   ]
  },
  {
   "cell_type": "code",
   "execution_count": 7,
   "metadata": {},
   "outputs": [],
   "source": [
    "# групировка по user_id, price\n",
    "ab_summary = ab_data.groupby('grp')[['user_id','price']].count().rename(columns={'user_id':'users_count', 'price':'buyers_count'})\n",
    "# conversion\n",
    "ab_summary['conversion'] = ab_summary.buyers_count/ab_summary.users_count\n",
    "# средний чек\n",
    "ab_summary = ab_summary.merge(ab_data.groupby('grp').agg({'price':'mean'}).rename(columns = {'price':'avg_bill'}), \n",
    "                 left_index = True, right_index = True)\n",
    "# прибыль\n",
    "ab_summary = ab_summary.merge(ab_data.groupby('grp').agg({'price':'sum'}).rename(columns = {'price':'revenue'}), \n",
    "                 left_index = True, right_index = True)\n",
    "# средняя прибыль на пользователя\n",
    "ab_summary['ARPU'] = ab_summary.revenue/ab_summary.users_count\n",
    "# profit \n",
    "ab_summary['Доп. выручка'] = (ab_summary.users_count*(ab_summary.ARPU - ab_summary['ARPU']['A'])).astype(int)"
   ]
  },
  {
   "cell_type": "code",
   "execution_count": 8,
   "metadata": {},
   "outputs": [],
   "source": [
    "# Важные функции для получения доверительных интервалов\n",
    "def get_conf_interval(data, conf_level = 0.95):  \n",
    "# Считает доверительные интервалы для средних\n",
    "        buf = (stats.t.interval(conf_level, len(data),\n",
    "                             loc=np.mean(data), scale=stats.sem(data)))\n",
    "        return (buf[1] - buf[0])/2\n",
    "    \n",
    "def get_conf_interval_z(succ, tot):  \n",
    "# Считает доверительные интервалы для бинарных величин\n",
    "    buf = proportion_confint(succ, tot)\n",
    "    return buf[1] - buf[0]"
   ]
  },
  {
   "cell_type": "code",
   "execution_count": 9,
   "metadata": {},
   "outputs": [],
   "source": [
    "# Составляем словарь с доверительными интервалами для каждой метрики и для каждой группы\n",
    "conf_intervals = {'ARPU':{'A':get_conf_interval(ab_data.loc[ab_data.grp == 'A', 'price'].fillna(0)),\n",
    "                          'B':get_conf_interval(ab_data.loc[ab_data.grp == 'B', 'price'].fillna(0))},\n",
    "                  'conversion':{'A':get_conf_interval_z(ab_data.loc[ab_data.grp == 'A', 'price'].dropna().count(),\n",
    "                                                        ab_data.loc[ab_data.grp == 'A', 'user_id'].count()),\n",
    "                               'B':get_conf_interval_z(ab_data.loc[ab_data.grp == 'B', 'price'].dropna().count(),\n",
    "                                                        ab_data.loc[ab_data.grp == 'B', 'user_id'].count())},\n",
    "                  'avg_bill':{'A':get_conf_interval(ab_data.loc[ab_data.grp == 'A', 'price'].dropna()),\n",
    "                          'B':get_conf_interval(ab_data.loc[ab_data.grp == 'B', 'price'].dropna())}\n",
    "                 }"
   ]
  },
  {
   "cell_type": "code",
   "execution_count": 10,
   "metadata": {},
   "outputs": [],
   "source": [
    "# Удобная функция для подстановки подписей на barplot\n",
    "def set_labels(axes):  \n",
    "# Расставляет подписи столбцов на барплоты\n",
    "    y0, y1 = axes.get_ybound()  \n",
    "# размер графика по оси Y\n",
    "    y_shift = 0.15* (y1 - y0)  \n",
    "# дополнительное место под надписи\n",
    "\n",
    "    for i, rect in enumerate(axes.patches):  \n",
    "# по всем нарисованным прямоугольникам\n",
    "        height = rect.get_height()\n",
    "        if abs(height) <= 10000:\n",
    "            label = str(round(height, 2))\n",
    "            if label[-1] == '0':\n",
    "                label = label[:-1]\n",
    "        elif abs(height) <= 1000000:\n",
    "            label = str(round(height/1000, 1))\n",
    "            if label[-1] == '0':\n",
    "                label = label[:-1] + 'k'\n",
    "            else:\n",
    "                label = label + 'k'\n",
    "        else:\n",
    "            label = str(round(height/1000000, 2))\n",
    "            if label[-1] == '0':\n",
    "                label = label[:-1] + 'm'\n",
    "            else:\n",
    "                label = label + 'm'\n",
    "        x = rect.get_x() + rect.get_width() / 2  \n",
    "# посередине прямоугольника\n",
    "        y = height + y_shift * 0.8  \n",
    "# над прямоугольником в середине доп. места\n",
    "        if height < 0:\n",
    "            y = y_shift * 0.8 \n",
    "        axes.text(x, y, label, ha='center', va='center', alpha = 0.7)\n",
    "        axes.set_ybound(y0, y1 + 1.5*y_shift)"
   ]
  },
  {
   "cell_type": "code",
   "execution_count": 11,
   "metadata": {},
   "outputs": [],
   "source": [
    "plot_summary = ab_summary.T \n",
    "# Транспонированная таблица для удобства использования\n",
    "significant_changes = ['conversion', 'avg_bill'] \n",
    "# Метрики со статзначимыми различиями"
   ]
  },
  {
   "cell_type": "code",
   "execution_count": 12,
   "metadata": {},
   "outputs": [
    {
     "data": {
      "image/png": "[encoded data removed]",
      "text/plain": [
       "<Figure size 1008x288 with 7 Axes>"
      ]
     },
     "metadata": {
      "needs_background": "light"
     },
     "output_type": "display_data"
    }
   ],
   "source": [
    "\n",
    "ax = [] \n",
    "# Массив для складирования графиков\n",
    "n_pict_in_line = 4 \n",
    "# Количество картинок в одной линии\n",
    "\n",
    "gs = gridspec.GridSpec(ceil(len(plot_summary) / float(n_pict_in_line)), n_pict_in_line) \n",
    "# Создаём сетку для графиков\n",
    "fig = plt.figure(figsize=(n_pict_in_line*3 + 2,\n",
    "                          ceil(len(plot_summary) / n_pict_in_line) * 2))\n",
    "\n",
    "## Считаем изменение метрики в процентах\n",
    "delta_percent = {}\n",
    "for row in plot_summary.index:  \n",
    "    if 'users_count' != row and 'buyers_count' != row and 'revenue' != row and \"Доп. выручка\" != row:\n",
    "        delta_percent[row] = '(' + str(round(plot_summary.loc[row, :].max()/\\\n",
    "                                  plot_summary.loc[row, :].min()*100 - 100, 1)) + '%)'\n",
    "        \n",
    "fig.suptitle('Результаты АБ-теста со скидками от 5 августа 2019 до 11 августа 2019')\n",
    "\n",
    "## Строим графики\n",
    "for i, col in enumerate(plot_summary.index):\n",
    "    ax.append(plt.subplot(gs[i // n_pict_in_line, i % n_pict_in_line])) \n",
    "# Добавляем subplot в нужную клетку\n",
    "    plot_summary.loc[[col], :].plot(kind='bar', rot=0, ax=ax[i], alpha=0.8, \n",
    "# Строим график в нужной клетке\n",
    "                                   yerr=conf_intervals[col] if col in conf_intervals else 0) \n",
    "    \n",
    "    \n",
    "# Редактируем подпись к графику, чтобы в ней хранилась информация о значимости различий \n",
    "    stars = ' * ' if col in significant_changes else '' \n",
    "    ticks = ax[-1].get_xticklabels()\n",
    "    ticks[0] = col + stars + delta_percent[col] if col in delta_percent else col + stars\n",
    "    ax[-1].set_xticklabels(ticks)\n",
    "    ax[-1].set_yticks([])\n",
    "    set_labels(axes=ax[i])"
   ]
  },
  {
   "cell_type": "code",
   "execution_count": 13,
   "metadata": {},
   "outputs": [
    {
     "data": {
      "text/html": [
       "<div>\n",
       "<style scoped>\n",
       "    .dataframe tbody tr th:only-of-type {\n",
       "        vertical-align: middle;\n",
       "    }\n",
       "\n",
       "    .dataframe tbody tr th {\n",
       "        vertical-align: top;\n",
       "    }\n",
       "\n",
       "    .dataframe thead th {\n",
       "        text-align: right;\n",
       "    }\n",
       "</style>\n",
       "<table border=\"1\" class=\"dataframe\">\n",
       "  <thead>\n",
       "    <tr style=\"text-align: right;\">\n",
       "      <th></th>\n",
       "      <th>users_count</th>\n",
       "      <th>buyers_count</th>\n",
       "      <th>conversion</th>\n",
       "      <th>avg_bill</th>\n",
       "      <th>revenue</th>\n",
       "      <th>ARPU</th>\n",
       "      <th>Доп. выручка</th>\n",
       "    </tr>\n",
       "    <tr>\n",
       "      <th>grp</th>\n",
       "      <th></th>\n",
       "      <th></th>\n",
       "      <th></th>\n",
       "      <th></th>\n",
       "      <th></th>\n",
       "      <th></th>\n",
       "      <th></th>\n",
       "    </tr>\n",
       "  </thead>\n",
       "  <tbody>\n",
       "    <tr>\n",
       "      <th>A</th>\n",
       "      <td>76605</td>\n",
       "      <td>4279</td>\n",
       "      <td>0.0559</td>\n",
       "      <td>396.1206</td>\n",
       "      <td>1,695,000.0000</td>\n",
       "      <td>22.1265</td>\n",
       "      <td>0</td>\n",
       "    </tr>\n",
       "    <tr>\n",
       "      <th>B</th>\n",
       "      <td>76627</td>\n",
       "      <td>9427</td>\n",
       "      <td>0.1230</td>\n",
       "      <td>348.8045</td>\n",
       "      <td>3,288,180.0000</td>\n",
       "      <td>42.9115</td>\n",
       "      <td>1592693</td>\n",
       "    </tr>\n",
       "  </tbody>\n",
       "</table>\n",
       "</div>"
      ],
      "text/plain": [
       "     users_count  buyers_count  conversion  avg_bill        revenue    ARPU  \\\n",
       "grp                                                                           \n",
       "A          76605          4279      0.0559  396.1206 1,695,000.0000 22.1265   \n",
       "B          76627          9427      0.1230  348.8045 3,288,180.0000 42.9115   \n",
       "\n",
       "     Доп. выручка  \n",
       "grp                \n",
       "A               0  \n",
       "B         1592693  "
      ]
     },
     "execution_count": 13,
     "metadata": {},
     "output_type": "execute_result"
    }
   ],
   "source": [
    "ab_summary"
   ]
  },
  {
   "cell_type": "markdown",
   "metadata": {},
   "source": [
    "### Cредний чек"
   ]
  },
  {
   "cell_type": "code",
   "execution_count": 14,
   "metadata": {},
   "outputs": [
    {
     "data": {
      "text/plain": [
       "grp\n",
       "A   396.1206\n",
       "B   348.8045\n",
       "Name: avg_bill, dtype: float64"
      ]
     },
     "execution_count": 14,
     "metadata": {},
     "output_type": "execute_result"
    }
   ],
   "source": [
    "ab_summary['avg_bill']"
   ]
  },
  {
   "cell_type": "markdown",
   "metadata": {},
   "source": [
    "### ARPU"
   ]
  },
  {
   "cell_type": "code",
   "execution_count": 15,
   "metadata": {},
   "outputs": [
    {
     "data": {
      "text/plain": [
       "grp\n",
       "A   22.1265\n",
       "B   42.9115\n",
       "Name: ARPU, dtype: float64"
      ]
     },
     "execution_count": 15,
     "metadata": {},
     "output_type": "execute_result"
    }
   ],
   "source": [
    "ab_summary['ARPU']"
   ]
  },
  {
   "cell_type": "markdown",
   "metadata": {},
   "source": [
    "### Выводы по анализу\n",
    "ARPU показал рост на 93,9 % что много, и значимо.\n",
    "\n",
    "Средний чек, упал на 13,6 % что сильное падение, но не очень бросающаяся в глаза из-за, конверсии значимо увеличившейся на 120 %.\n",
    "Мы получили доп. выручки 1,592 млн.руб. от пользователей из тестовой группы со скидками.\n",
    "\n",
    "**Скидки успешная концепция, и приносит ощутимую прибыль. Значит маркетологи могут запускать ещё события.**"
   ]
  }
 ],
 "metadata": {
  "kernelspec": {
   "display_name": "Python 3",
   "language": "python",
   "name": "python3"
  },
  "language_info": {
   "codemirror_mode": {
    "name": "ipython",
    "version": 3
   },
   "file_extension": ".py",
   "mimetype": "text/x-python",
   "name": "python",
   "nbconvert_exporter": "python",
   "pygments_lexer": "ipython3",
   "version": "3.8.5"
  }
 },
 "nbformat": 4,
 "nbformat_minor": 4
}
