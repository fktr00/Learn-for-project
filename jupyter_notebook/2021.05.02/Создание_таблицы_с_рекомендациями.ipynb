{
 "cells": [
  {
   "cell_type": "markdown",
   "metadata": {},
   "source": [
    "## PROJECT\n",
    "#### Алексей Маляренко 02.05.2021\n",
    "\n",
    "#### Содержание\n",
    "1. SQL-запрос\n",
    "2. Кода на Python\n",
    "3. Таблица\n",
    "4. Комментарий о выборе минимальной границы и более подходящего курса\n",
    " \n",
    "#### Задачи (ФОРМАЛИЗОВАННЫЕ)\n",
    "1. Построить рекомендательную систему, благодаря которой можно будет предлагать клиентам интересные им курсы. Для этого потребуется подготовить и проанализировать имеющиеся данные.\n",
    "2. Составить итоговую таблицу с рекомендациями, снабдив её необходимыми комментариями, и представить  продакт-менеджеру.\n",
    "\n",
    "__Краткий вывод__ (одинаков, как в конце так и вначале, для удобства)\n",
    "\n",
    "Рекомендовать такой подбор курсов, может не сильно сказаться на среднем чеке онлайн-школы. Из-за того что у нас есть данные только по количеству покупок по id курсов, но нет необходимого уровня подготовки студента для курса (с нуля, мидл, 1.5 года опыта, тд…) и темы (аналитика, веб дизайн, фигурное вязание крючком...). Как без этих данных мы заранее точно скажем, что человеку купивший не очень популярный курс «Носки с рисунком за месяц», не предложит «Python для чайников, кофейников и других бытовых приборов». Нужно доработать. Но только после теста мы узнаем, насколько это будут правильно собранные рекомендации."
   ]
  },
  {
   "cell_type": "code",
   "execution_count": 2,
   "metadata": {},
   "outputs": [],
   "source": [
    "import psycopg2\n",
    "import psycopg2.extras\n",
    "import pandas as pd\n",
    "import collections\n",
    "import itertools"
   ]
  },
  {
   "cell_type": "markdown",
   "metadata": {},
   "source": [
    "### SQL-запросы"
   ]
  },
  {
   "cell_type": "code",
   "execution_count": 3,
   "metadata": {},
   "outputs": [],
   "source": [
    "def getCourseCount():\n",
    "    '''\n",
    "    Получаем список курсов, всех кроме того кто никто не купил\n",
    "    '''\n",
    "    try: # передаём запрос на сервер \n",
    "        query = '''with count_course as\n",
    "    (\n",
    "    select\n",
    "        c.user_id,\n",
    "        count(distinct ca.resource_id) course\n",
    "    from\n",
    "        final.carts c\n",
    "            join\n",
    "                final.cart_items ca\n",
    "                on c.id = cart_id\n",
    "    where\n",
    "        state = 'successful' and resource_type = 'Course' \n",
    "    group by user_id\n",
    "    having \n",
    "        count(distinct ca.resource_id) > 1\n",
    "    )\n",
    "    select \n",
    "        c.user_id,\n",
    "        ca.resource_id course_id -- самый важный столбец\n",
    "    from\n",
    "        final.carts c\n",
    "            join\n",
    "                final.cart_items ca\n",
    "                on c.id = cart_id\n",
    "                    join\n",
    "                        count_course co\n",
    "                        on co.user_id = c.user_id\n",
    "    where\n",
    "        state = 'successful' and resource_type = 'Course'\n",
    "        '''.format()\n",
    "        conn = psycopg2.connect(\"dbname='skillfactory' user='skillfactory' host='84.201.134.129' password='cCkxxLVrDE8EbvjueeMedPKt' port=5432\")\n",
    "        cur = conn.cursor(cursor_factory=psycopg2.extras.DictCursor)\n",
    "        cur.execute(query)\n",
    "        rows = cur.fetchall()\n",
    "        data = []\n",
    "        for row in rows:\n",
    "            data.append(dict(row))\n",
    "        return data\n",
    "        conn.commit() # обязательно делаем комит \n",
    "    except (Exception, psycopg2.Error) as error : # если не получается выводим ошибку\n",
    "        if(conn):  \n",
    "            print(\"Error\", error)  \n",
    "    finally:  # во всех случаях закрываем коннект, чтоб зря не нагружать сервер\n",
    "        if(conn):  \n",
    "            cur.close()  \n",
    "            conn.close() \n",
    "            \n",
    "# создаём дата фрейм и убираем одни и те же курсы купленные два раза одним человеком\n",
    "course_count = pd.DataFrame(getCourseCount())\n",
    "course_count.drop_duplicates(inplace=True)"
   ]
  },
  {
   "cell_type": "code",
   "execution_count": 4,
   "metadata": {},
   "outputs": [],
   "source": [
    "# вся функция написана, чтоб получить последний курс не попавший в основной список, который никто так и приобрёл\n",
    "def last_course(): \n",
    "    '''\n",
    "    127 курс\n",
    "    '''\n",
    "    try:\n",
    "        query = '''with last_course as\n",
    "    (\n",
    "    select\n",
    "        c.user_id,\n",
    "        ca.resource_id course_id\n",
    "    from\n",
    "        final.carts c\n",
    "            join\n",
    "                final.cart_items ca\n",
    "                on c.id = cart_id\n",
    "    where\n",
    "        state = 'successful' and resource_type = 'Course' \n",
    "    )\n",
    "    select \n",
    "        distinct car.resource_id \n",
    "    from \n",
    "        final.cart_items car\n",
    "    where \n",
    "        resource_type = 'Course' and \n",
    "        not exists (select * -- убираем все курсы кроме нужного  \n",
    "                    from\n",
    "                        last_course\n",
    "                    where car.resource_id = last_course.course_id)\n",
    "        '''.format()\n",
    "        conn = psycopg2.connect(\"dbname='skillfactory' user='skillfactory' host='84.201.134.129' password='cCkxxLVrDE8EbvjueeMedPKt' port=5432\")\n",
    "        cur = conn.cursor(cursor_factory=psycopg2.extras.DictCursor)\n",
    "        cur.execute(query)\n",
    "        rows = cur.fetchall()\n",
    "        data = []\n",
    "        for row in rows:\n",
    "            data.append(dict(row))\n",
    "        return data\n",
    "        conn.commit()   \n",
    "    except (Exception, psycopg2.Error) as error :  \n",
    "        if(conn):  \n",
    "            print(\"Error\", error)  \n",
    "    finally:  \n",
    "        if(conn):  \n",
    "            cur.close()  \n",
    "            conn.close() "
   ]
  },
  {
   "cell_type": "markdown",
   "metadata": {},
   "source": [
    "### Кода на Python"
   ]
  },
  {
   "cell_type": "code",
   "execution_count": 5,
   "metadata": {},
   "outputs": [
    {
     "data": {
      "text/plain": [
       "772"
      ]
     },
     "execution_count": 5,
     "metadata": {},
     "output_type": "execute_result"
    }
   ],
   "source": [
    "last_course = last_course()[0]['resource_id']\n",
    "last_course # нужная в само конце переменная с id 1‑го курса"
   ]
  },
  {
   "cell_type": "code",
   "execution_count": 6,
   "metadata": {},
   "outputs": [
    {
     "data": {
      "text/plain": [
       "551    2935\n",
       "566    2342\n",
       "Name: course_id, dtype: int64"
      ]
     },
     "execution_count": 6,
     "metadata": {},
     "output_type": "execute_result"
    }
   ],
   "source": [
    "first_popular = course_count['course_id'].value_counts().index[0]\n",
    "second_popular = course_count['course_id'].value_counts().index[1]\n",
    "course_count['course_id'].value_counts().head(2) \n",
    "# берём 2 самых покупаемых курса. Позже мы их впишем в функцию для получения таблицы с рекомендациями"
   ]
  },
  {
   "cell_type": "code",
   "execution_count": 7,
   "metadata": {},
   "outputs": [],
   "source": [
    "def pre_sheet(course_count):\n",
    "    '''\n",
    "    Группировка по парам и их количеству для id курсов\n",
    "    '''\n",
    "    course_df = course_count.groupby(['user_id'])['course_id'].apply(set).reset_index()\n",
    "    courses_pairs = []\n",
    "    c = collections.Counter() # Counter очень нужный счётчик\n",
    "    co = collections.Counter()\n",
    "    for element in course_df['course_id']:\n",
    "        for pair in itertools.combinations(sorted(list(element)),2): # через функцию combinations получаем сразу все пары \n",
    "            courses_pairs.append(pair)\n",
    "\n",
    "    for i in courses_pairs:\n",
    "        c[str(i[0])+'+'+str(i[1])] +=1 # наглядный список\n",
    "    \n",
    "    for i in courses_pairs:\n",
    "        co[i] +=1 # количество пар\n",
    "    \n",
    "    j = []\n",
    "    for i in co.items():\n",
    "        j.append(i[1])\n",
    "    \n",
    "    df = pd.DataFrame(list(co),columns=['one','two'])\n",
    "    df['count'] = j\n",
    "    df['pretty'] = list(c)\n",
    "    df.sort_values(by='count',ascending=False,inplace=True) # сортируем\n",
    "    df = df.reset_index(drop=True)\n",
    "    return df"
   ]
  },
  {
   "cell_type": "code",
   "execution_count": 8,
   "metadata": {},
   "outputs": [
    {
     "data": {
      "text/html": [
       "<div>\n",
       "<style scoped>\n",
       "    .dataframe tbody tr th:only-of-type {\n",
       "        vertical-align: middle;\n",
       "    }\n",
       "\n",
       "    .dataframe tbody tr th {\n",
       "        vertical-align: top;\n",
       "    }\n",
       "\n",
       "    .dataframe thead th {\n",
       "        text-align: right;\n",
       "    }\n",
       "</style>\n",
       "<table border=\"1\" class=\"dataframe\">\n",
       "  <thead>\n",
       "    <tr style=\"text-align: right;\">\n",
       "      <th></th>\n",
       "      <th>one</th>\n",
       "      <th>two</th>\n",
       "      <th>count</th>\n",
       "      <th>pretty</th>\n",
       "    </tr>\n",
       "  </thead>\n",
       "  <tbody>\n",
       "    <tr>\n",
       "      <th>0</th>\n",
       "      <td>551</td>\n",
       "      <td>566</td>\n",
       "      <td>797</td>\n",
       "      <td>551+566</td>\n",
       "    </tr>\n",
       "    <tr>\n",
       "      <th>1</th>\n",
       "      <td>515</td>\n",
       "      <td>551</td>\n",
       "      <td>417</td>\n",
       "      <td>515+551</td>\n",
       "    </tr>\n",
       "  </tbody>\n",
       "</table>\n",
       "</div>"
      ],
      "text/plain": [
       "   one  two  count   pretty\n",
       "0  551  566    797  551+566\n",
       "1  515  551    417  515+551"
      ]
     },
     "execution_count": 8,
     "metadata": {},
     "output_type": "execute_result"
    }
   ],
   "source": [
    "pre_sheet(course_count).head(2) # результат для заготовки таблицы"
   ]
  },
  {
   "cell_type": "code",
   "execution_count": 9,
   "metadata": {},
   "outputs": [
    {
     "data": {
      "text/html": [
       "<div>\n",
       "<style scoped>\n",
       "    .dataframe tbody tr th:only-of-type {\n",
       "        vertical-align: middle;\n",
       "    }\n",
       "\n",
       "    .dataframe tbody tr th {\n",
       "        vertical-align: top;\n",
       "    }\n",
       "\n",
       "    .dataframe thead th {\n",
       "        text-align: right;\n",
       "    }\n",
       "</style>\n",
       "<table border=\"1\" class=\"dataframe\">\n",
       "  <thead>\n",
       "    <tr style=\"text-align: right;\">\n",
       "      <th></th>\n",
       "      <th>one</th>\n",
       "      <th>two</th>\n",
       "      <th>count</th>\n",
       "    </tr>\n",
       "  </thead>\n",
       "  <tbody>\n",
       "    <tr>\n",
       "      <th>count</th>\n",
       "      <td>3989.000000</td>\n",
       "      <td>3989.000000</td>\n",
       "      <td>3989.000000</td>\n",
       "    </tr>\n",
       "    <tr>\n",
       "      <th>mean</th>\n",
       "      <td>608.819504</td>\n",
       "      <td>889.243169</td>\n",
       "      <td>10.031838</td>\n",
       "    </tr>\n",
       "    <tr>\n",
       "      <th>std</th>\n",
       "      <td>190.998341</td>\n",
       "      <td>226.192657</td>\n",
       "      <td>26.355998</td>\n",
       "    </tr>\n",
       "    <tr>\n",
       "      <th>min</th>\n",
       "      <td>356.000000</td>\n",
       "      <td>357.000000</td>\n",
       "      <td>1.000000</td>\n",
       "    </tr>\n",
       "    <tr>\n",
       "      <th>25%</th>\n",
       "      <td>504.000000</td>\n",
       "      <td>749.000000</td>\n",
       "      <td>1.000000</td>\n",
       "    </tr>\n",
       "    <tr>\n",
       "      <th>50%</th>\n",
       "      <td>552.000000</td>\n",
       "      <td>862.000000</td>\n",
       "      <td>3.000000</td>\n",
       "    </tr>\n",
       "    <tr>\n",
       "      <th>75%</th>\n",
       "      <td>750.000000</td>\n",
       "      <td>1125.000000</td>\n",
       "      <td>9.000000</td>\n",
       "    </tr>\n",
       "    <tr>\n",
       "      <th>max</th>\n",
       "      <td>1187.000000</td>\n",
       "      <td>1201.000000</td>\n",
       "      <td>797.000000</td>\n",
       "    </tr>\n",
       "  </tbody>\n",
       "</table>\n",
       "</div>"
      ],
      "text/plain": [
       "               one          two        count\n",
       "count  3989.000000  3989.000000  3989.000000\n",
       "mean    608.819504   889.243169    10.031838\n",
       "std     190.998341   226.192657    26.355998\n",
       "min     356.000000   357.000000     1.000000\n",
       "25%     504.000000   749.000000     1.000000\n",
       "50%     552.000000   862.000000     3.000000\n",
       "75%     750.000000  1125.000000     9.000000\n",
       "max    1187.000000  1201.000000   797.000000"
      ]
     },
     "execution_count": 9,
     "metadata": {},
     "output_type": "execute_result"
    }
   ],
   "source": [
    "pre_sheet(course_count).describe()\n",
    "# как мы тут видим, разброс велик. Посмотрим на график ниже."
   ]
  },
  {
   "cell_type": "code",
   "execution_count": 10,
   "metadata": {},
   "outputs": [
    {
     "data": {
      "text/plain": [
       "<AxesSubplot:>"
      ]
     },
     "execution_count": 10,
     "metadata": {},
     "output_type": "execute_result"
    },
    {
     "data": {
      "image/png": "[encoded data removed]",
      "text/plain": [
       "<Figure size 432x288 with 1 Axes>"
      ]
     },
     "metadata": {
      "needs_background": "light"
     },
     "output_type": "display_data"
    }
   ],
   "source": [
    "data = pd.DataFrame(pre_sheet(course_count)['count'])\n",
    "data.plot()\n",
    "# видим пик который мы и используем для нахождения минимальной границы"
   ]
  },
  {
   "cell_type": "code",
   "execution_count": 20,
   "metadata": {},
   "outputs": [
    {
     "name": "stdout",
     "output_type": "stream",
     "text": [
      "399\n"
     ]
    },
    {
     "data": {
      "text/plain": [
       "<AxesSubplot:>"
      ]
     },
     "execution_count": 20,
     "metadata": {},
     "output_type": "execute_result"
    },
    {
     "data": {
      "image/png": "[encoded data removed]",
      "text/plain": [
       "<Figure size 432x288 with 1 Axes>"
      ]
     },
     "metadata": {
      "needs_background": "light"
     },
     "output_type": "display_data"
    }
   ],
   "source": [
    "ten = int(round((len(pre_sheet(course_count))/100)*10,0))\n",
    "print(str(ten))\n",
    "data[:ten].plot()\n",
    "# приблизительно с 10% процентов график начинает расти. Давайте считать что именно 90% квантиль\n",
    "# и станет нашим значением для определения нижней границы, поле перехода которой для рекомендаций,\n",
    "# будет проставлен самый популярный курс и второй за ним"
   ]
  },
  {
   "cell_type": "code",
   "execution_count": 12,
   "metadata": {},
   "outputs": [
    {
     "data": {
      "text/plain": [
       "22"
      ]
     },
     "execution_count": 12,
     "metadata": {},
     "output_type": "execute_result"
    }
   ],
   "source": [
    "bottom_line = int(pre_sheet(course_count)['count'].quantile(.90))\n",
    "bottom_line # нижняя граница"
   ]
  },
  {
   "cell_type": "code",
   "execution_count": 14,
   "metadata": {},
   "outputs": [],
   "source": [
    "def sheet(course_id_df,df,development = 0):\n",
    "    \n",
    "    '''\n",
    "    Основная таблица \n",
    "    для переключения в режим тестирования или проверки \n",
    "    надо передать development = 1\n",
    "    '''\n",
    "    \n",
    "    sheet_df =  pd.DataFrame(course_id_df.unique(),columns=['course'])\n",
    "    \n",
    "    h1 = [] # первый и второй столбец рекомендаций \n",
    "    h2 = []\n",
    "    test1 = [] # собирают количество пар, по ним и подбираются рекомендации\n",
    "    test2 = []\n",
    "    # цикл для расставления всего по своим местам, ничего интересного\n",
    "    for i in course_id_df.unique():\n",
    "        way = df[(df['one']==i)|(df['two']==i)] # а ну тут что-то есть, список, \n",
    "        if way.iloc[0][0] == i:                   # который ищет текущие значение курса в обеих столбцах таблицы с количеством\n",
    "            if way.iloc[1][2] > bottom_line:\n",
    "                h1.append(way.iloc[0][1])\n",
    "            else:\n",
    "                h1.append(first_popular)\n",
    "            test1.append(way.iloc[0][2])\n",
    "            if way.iloc[1][0] == i:\n",
    "                if way.iloc[1][2] > bottom_line:\n",
    "                    h2.append(way.iloc[1][1])\n",
    "                else:\n",
    "                    if way.iloc[1][2] > bottom_line:\n",
    "                        h2.append(first_popular)\n",
    "                    else:\n",
    "                        h2.append(second_popular)\n",
    "                test2.append(way.iloc[1][2])\n",
    "            else:\n",
    "                if way.iloc[1][2] > bottom_line:\n",
    "                    h2.append(way.iloc[1][0])\n",
    "                else:\n",
    "                    if way.iloc[1][2] > bottom_line:\n",
    "                        h2.append(first_popular)\n",
    "                    else:\n",
    "                        h2.append(second_popular)\n",
    "                test2.append(way.iloc[1][2])\n",
    "        else:\n",
    "            if way.iloc[0][2] > bottom_line:\n",
    "                h1.append(way.iloc[0][0])\n",
    "            else:\n",
    "                h1.append(first_popular) \n",
    "            test1.append(way.iloc[0][2])\n",
    "            if way.iloc[1][0] == i:\n",
    "                if way.iloc[1][2] > bottom_line:\n",
    "                    h2.append(way.iloc[1][1])\n",
    "                else:\n",
    "                    if way.iloc[0][2] > bottom_line:\n",
    "                        h2.append(first_popular)\n",
    "                    else:\n",
    "                        h2.append(second_popular)\n",
    "                test2.append(way.iloc[1][2])\n",
    "            else:\n",
    "                if way.iloc[1][2] > bottom_line:\n",
    "                    h2.append(way.iloc[1][0])\n",
    "                else:\n",
    "                    if way.iloc[0][2] > bottom_line:\n",
    "                        h2.append(first_popular)\n",
    "                    else:\n",
    "                        h2.append(second_popular)\n",
    "                test2.append(way.iloc[1][2])\n",
    "                \n",
    "    if development == 1:    \n",
    "        sheet_df['recommend_Nam1'] = h1\n",
    "        sheet_df['test1'] = test1\n",
    "        sheet_df['recommend_Nam2'] = h2\n",
    "        sheet_df['test2'] = test2\n",
    "        sheet_df.loc[126] = [last_course,first_popular,0,second_popular,0,] # последний ни одного раза не купленный курс\n",
    "    else:\n",
    "        sheet_df['recommend_Nam1'] = h1\n",
    "        sheet_df['recommend_Nam2'] = h2\n",
    "        sheet_df.loc[126] = [last_course,first_popular,second_popular,] # тоже самое но без пропусков для тест1 и тест2\n",
    "    return sheet_df"
   ]
  },
  {
   "cell_type": "markdown",
   "metadata": {},
   "source": [
    "### Таблица"
   ]
  },
  {
   "cell_type": "code",
   "execution_count": 15,
   "metadata": {},
   "outputs": [],
   "source": [
    "final_sheet_df = sheet(course_count['course_id'],pre_sheet(course_count)) # вот таблица, 3 столбца"
   ]
  },
  {
   "cell_type": "code",
   "execution_count": 16,
   "metadata": {},
   "outputs": [],
   "source": [
    "# для проверки соответствия рекомендаций по числам(количество той пры курсов, что взята для рекомендации) \n",
    "# вызовете эту же функцию с атрибутом \"development = 1\" пример ниже\n",
    "# final_sheet_df = sheet(course_count['course_id'],pre_sheet(course_count),development = 1)"
   ]
  },
  {
   "cell_type": "code",
   "execution_count": 17,
   "metadata": {},
   "outputs": [
    {
     "data": {
      "text/html": [
       "<div>\n",
       "<style scoped>\n",
       "    .dataframe tbody tr th:only-of-type {\n",
       "        vertical-align: middle;\n",
       "    }\n",
       "\n",
       "    .dataframe tbody tr th {\n",
       "        vertical-align: top;\n",
       "    }\n",
       "\n",
       "    .dataframe thead th {\n",
       "        text-align: right;\n",
       "    }\n",
       "</style>\n",
       "<table border=\"1\" class=\"dataframe\">\n",
       "  <thead>\n",
       "    <tr style=\"text-align: right;\">\n",
       "      <th></th>\n",
       "      <th>course</th>\n",
       "      <th>recommend_Nam1</th>\n",
       "      <th>recommend_Nam2</th>\n",
       "    </tr>\n",
       "  </thead>\n",
       "  <tbody>\n",
       "    <tr>\n",
       "      <th>0</th>\n",
       "      <td>490</td>\n",
       "      <td>566</td>\n",
       "      <td>551</td>\n",
       "    </tr>\n",
       "    <tr>\n",
       "      <th>1</th>\n",
       "      <td>357</td>\n",
       "      <td>571</td>\n",
       "      <td>356</td>\n",
       "    </tr>\n",
       "    <tr>\n",
       "      <th>2</th>\n",
       "      <td>507</td>\n",
       "      <td>570</td>\n",
       "      <td>752</td>\n",
       "    </tr>\n",
       "    <tr>\n",
       "      <th>3</th>\n",
       "      <td>489</td>\n",
       "      <td>551</td>\n",
       "      <td>515</td>\n",
       "    </tr>\n",
       "    <tr>\n",
       "      <th>4</th>\n",
       "      <td>514</td>\n",
       "      <td>551</td>\n",
       "      <td>515</td>\n",
       "    </tr>\n",
       "    <tr>\n",
       "      <th>5</th>\n",
       "      <td>552</td>\n",
       "      <td>551</td>\n",
       "      <td>523</td>\n",
       "    </tr>\n",
       "    <tr>\n",
       "      <th>6</th>\n",
       "      <td>515</td>\n",
       "      <td>551</td>\n",
       "      <td>489</td>\n",
       "    </tr>\n",
       "    <tr>\n",
       "      <th>7</th>\n",
       "      <td>523</td>\n",
       "      <td>551</td>\n",
       "      <td>515</td>\n",
       "    </tr>\n",
       "    <tr>\n",
       "      <th>8</th>\n",
       "      <td>569</td>\n",
       "      <td>572</td>\n",
       "      <td>840</td>\n",
       "    </tr>\n",
       "    <tr>\n",
       "      <th>9</th>\n",
       "      <td>363</td>\n",
       "      <td>511</td>\n",
       "      <td>562</td>\n",
       "    </tr>\n",
       "    <tr>\n",
       "      <th>10</th>\n",
       "      <td>553</td>\n",
       "      <td>745</td>\n",
       "      <td>516</td>\n",
       "    </tr>\n",
       "    <tr>\n",
       "      <th>11</th>\n",
       "      <td>572</td>\n",
       "      <td>569</td>\n",
       "      <td>504</td>\n",
       "    </tr>\n",
       "    <tr>\n",
       "      <th>12</th>\n",
       "      <td>502</td>\n",
       "      <td>551</td>\n",
       "      <td>566</td>\n",
       "    </tr>\n",
       "    <tr>\n",
       "      <th>13</th>\n",
       "      <td>359</td>\n",
       "      <td>551</td>\n",
       "      <td>566</td>\n",
       "    </tr>\n",
       "    <tr>\n",
       "      <th>14</th>\n",
       "      <td>551</td>\n",
       "      <td>566</td>\n",
       "      <td>515</td>\n",
       "    </tr>\n",
       "    <tr>\n",
       "      <th>15</th>\n",
       "      <td>809</td>\n",
       "      <td>490</td>\n",
       "      <td>570</td>\n",
       "    </tr>\n",
       "    <tr>\n",
       "      <th>16</th>\n",
       "      <td>516</td>\n",
       "      <td>745</td>\n",
       "      <td>553</td>\n",
       "    </tr>\n",
       "    <tr>\n",
       "      <th>17</th>\n",
       "      <td>563</td>\n",
       "      <td>551</td>\n",
       "      <td>566</td>\n",
       "    </tr>\n",
       "    <tr>\n",
       "      <th>18</th>\n",
       "      <td>513</td>\n",
       "      <td>551</td>\n",
       "      <td>566</td>\n",
       "    </tr>\n",
       "  </tbody>\n",
       "</table>\n",
       "</div>"
      ],
      "text/plain": [
       "    course  recommend_Nam1  recommend_Nam2\n",
       "0      490             566             551\n",
       "1      357             571             356\n",
       "2      507             570             752\n",
       "3      489             551             515\n",
       "4      514             551             515\n",
       "5      552             551             523\n",
       "6      515             551             489\n",
       "7      523             551             515\n",
       "8      569             572             840\n",
       "9      363             511             562\n",
       "10     553             745             516\n",
       "11     572             569             504\n",
       "12     502             551             566\n",
       "13     359             551             566\n",
       "14     551             566             515\n",
       "15     809             490             570\n",
       "16     516             745             553\n",
       "17     563             551             566\n",
       "18     513             551             566"
      ]
     },
     "execution_count": 17,
     "metadata": {},
     "output_type": "execute_result"
    }
   ],
   "source": [
    "final_sheet_df.head(19)"
   ]
  },
  {
   "cell_type": "code",
   "execution_count": 18,
   "metadata": {},
   "outputs": [
    {
     "data": {
      "text/html": [
       "<div>\n",
       "<style scoped>\n",
       "    .dataframe tbody tr th:only-of-type {\n",
       "        vertical-align: middle;\n",
       "    }\n",
       "\n",
       "    .dataframe tbody tr th {\n",
       "        vertical-align: top;\n",
       "    }\n",
       "\n",
       "    .dataframe thead th {\n",
       "        text-align: right;\n",
       "    }\n",
       "</style>\n",
       "<table border=\"1\" class=\"dataframe\">\n",
       "  <thead>\n",
       "    <tr style=\"text-align: right;\">\n",
       "      <th></th>\n",
       "      <th>course</th>\n",
       "      <th>recommend_Nam1</th>\n",
       "      <th>recommend_Nam2</th>\n",
       "    </tr>\n",
       "  </thead>\n",
       "  <tbody>\n",
       "    <tr>\n",
       "      <th>124</th>\n",
       "      <td>1160</td>\n",
       "      <td>551</td>\n",
       "      <td>566</td>\n",
       "    </tr>\n",
       "    <tr>\n",
       "      <th>125</th>\n",
       "      <td>1201</td>\n",
       "      <td>551</td>\n",
       "      <td>566</td>\n",
       "    </tr>\n",
       "    <tr>\n",
       "      <th>126</th>\n",
       "      <td>772</td>\n",
       "      <td>551</td>\n",
       "      <td>566</td>\n",
       "    </tr>\n",
       "  </tbody>\n",
       "</table>\n",
       "</div>"
      ],
      "text/plain": [
       "     course  recommend_Nam1  recommend_Nam2\n",
       "124    1160             551             566\n",
       "125    1201             551             566\n",
       "126     772             551             566"
      ]
     },
     "execution_count": 18,
     "metadata": {},
     "output_type": "execute_result"
    }
   ],
   "source": [
    "len(final_sheet_df)\n",
    "final_sheet_df.tail(3)"
   ]
  },
  {
   "cell_type": "code",
   "execution_count": 19,
   "metadata": {},
   "outputs": [
    {
     "data": {
      "text/plain": [
       "127"
      ]
     },
     "execution_count": 19,
     "metadata": {},
     "output_type": "execute_result"
    }
   ],
   "source": [
    "len(final_sheet_df) # полное количество"
   ]
  },
  {
   "cell_type": "markdown",
   "metadata": {},
   "source": [
    "### Комментарий о выборе минимальной границы и более подходящего курса"
   ]
  },
  {
   "cell_type": "markdown",
   "metadata": {},
   "source": [
    "Сначала краткий вывод \n",
    "\n",
    "Рекомендовать такой подбор курсов, может не сильно сказаться на среднем чеке онлайн-школы. Из-за того что у нас есть денные только по количеству покупок по id курсов, но нет необходимого уровня подготовки студента для курса (с нуля, мидл, 1.5 года опыта, тд…) и темы (аналитика, веб дизайн, фигурное вязание крючком...). Как без этих данных мы заранее точно скажем, что человеку купивший не очень популярный курс «Носки с рисунком за месяц», не предложит «Python для чайников, кофейников и других бытовых приборов». Нужно доработать. Но только после теста мы узнаем, насколько это будут правильно собранные рекомендации.\n",
    "\n",
    "Теперь по выбору нижней границы. Я взял график и просто поискал интервал где он начинает рост, при большем увеличении масштаба начинают теряться более значимые пары значений. Может мнение и субъективно, зато наверняка не пострадают уникальные редкие пры курсов. Им как раз рекомендаций не хватало, скорей всего, и позже будут часто приобретаться как второй, третий и тд… курсы.\n",
    "\n",
    "Предлагаемый курс за нижней границей. Тут всё не очень тяжело, в дата сете нет ничего о курсе кроме id. В работе представлен самый не сложный вариант, подставления 2‑х топ курсов. Можно встроить рандом в список, вместо двух самых популярных курсов, будет всплывать, при каждом переходе, курсы выше 98% квантиля (выше 73 повторяющихся пар). Но без риска, выдать вместо всем нравящихся вариантов, специфичные по тематике предложения, тут никуда. Также хороший, но нам неподошедшей, по причине отсутствия представителя онлайн-школы, передать топ курсов на проработку, чтобы из верхней 20ки человек подобрал может не топ 3, но те что реально круты и просто слегка отстали из-за того что школа опередила тренд, и например, после толчка в рекомендованные они могут стать новым бестселлером для сайта. Как вариант «Перевод всего офиса на удалёнку за неделю»."
   ]
  }
 ],
 "metadata": {
  "kernelspec": {
   "display_name": "Python 3",
   "language": "python",
   "name": "python3"
  },
  "language_info": {
   "codemirror_mode": {
    "name": "ipython",
    "version": 3
   },
   "file_extension": ".py",
   "mimetype": "text/x-python",
   "name": "python",
   "nbconvert_exporter": "python",
   "pygments_lexer": "ipython3",
   "version": "3.8.5"
  }
 },
 "nbformat": 4,
 "nbformat_minor": 4
}
