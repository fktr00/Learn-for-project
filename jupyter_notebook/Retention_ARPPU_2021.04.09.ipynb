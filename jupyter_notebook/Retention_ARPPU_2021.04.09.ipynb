{
 "cells": [
  {
   "cell_type": "markdown",
   "metadata": {},
   "source": [
    "### Задачи\n",
    "1. Для понимания эффективности новой фичи нужно посчитать показатели Retention 7 дня  и ARPPU за два периода: до и после внедрения фичи\n",
    "2. Сформировать выводы по анализу"
   ]
  },
  {
   "cell_type": "code",
   "execution_count": 2,
   "metadata": {},
   "outputs": [],
   "source": [
    "# импорты\n",
    "%matplotlib inline\n",
    "import pandas as pd\n",
    "import numpy as np\n",
    "import psycopg2\n",
    "import psycopg2.extras"
   ]
  },
  {
   "cell_type": "markdown",
   "metadata": {},
   "source": [
    "Выгружаем данные из базы за период с 2019-05-01 по 2019-07-01"
   ]
  },
  {
   "cell_type": "code",
   "execution_count": 3,
   "metadata": {},
   "outputs": [],
   "source": [
    "def getRegisteredUsersCount(): # количество зарегистрированных пользователей  \n",
    "    query = '''SELECT r.registration_date, count(distinct(r.user_id)) as registered_users_count\n",
    "    FROM case9.registration r\n",
    "    WHERE r.registration_date >= '2019-05-01' and r.registration_date < '2019-07-01'\n",
    "    GROUP BY 1\n",
    "    '''.format()\n",
    "    conn = psycopg2.connect(\"dbname='skillfactory' user='skillfactory' host='84.201.134.129' password='cCkxxLVrDE8EbvjueeMedPKt' port=5432\")\n",
    "    dict_cur = conn.cursor(cursor_factory=psycopg2.extras.DictCursor)\n",
    "    dict_cur.execute(query)\n",
    "    rows = dict_cur.fetchall() # список объектов psycopg2.extras.DictCursor\n",
    "    data = []\n",
    "    for row in rows:\n",
    "        data.append(dict(row)) # объект psycopg2.extras.DictCursor превращаеться в словарь\n",
    "    return data\n",
    "registered_users_count = pd.DataFrame(getRegisteredUsersCount())"
   ]
  },
  {
   "cell_type": "code",
   "execution_count": 4,
   "metadata": {
    "scrolled": true
   },
   "outputs": [
    {
     "data": {
      "text/html": [
       "<div>\n",
       "<style scoped>\n",
       "    .dataframe tbody tr th:only-of-type {\n",
       "        vertical-align: middle;\n",
       "    }\n",
       "\n",
       "    .dataframe tbody tr th {\n",
       "        vertical-align: top;\n",
       "    }\n",
       "\n",
       "    .dataframe thead th {\n",
       "        text-align: right;\n",
       "    }\n",
       "</style>\n",
       "<table border=\"1\" class=\"dataframe\">\n",
       "  <thead>\n",
       "    <tr style=\"text-align: right;\">\n",
       "      <th></th>\n",
       "      <th>registration_date</th>\n",
       "      <th>registered_users_count</th>\n",
       "    </tr>\n",
       "  </thead>\n",
       "  <tbody>\n",
       "    <tr>\n",
       "      <th>0</th>\n",
       "      <td>2019-05-01</td>\n",
       "      <td>6516</td>\n",
       "    </tr>\n",
       "    <tr>\n",
       "      <th>1</th>\n",
       "      <td>2019-05-02</td>\n",
       "      <td>5309</td>\n",
       "    </tr>\n",
       "    <tr>\n",
       "      <th>2</th>\n",
       "      <td>2019-05-03</td>\n",
       "      <td>6266</td>\n",
       "    </tr>\n",
       "  </tbody>\n",
       "</table>\n",
       "</div>"
      ],
      "text/plain": [
       "  registration_date  registered_users_count\n",
       "0        2019-05-01                    6516\n",
       "1        2019-05-02                    5309\n",
       "2        2019-05-03                    6266"
      ]
     },
     "execution_count": 4,
     "metadata": {},
     "output_type": "execute_result"
    }
   ],
   "source": [
    "registered_users_count.head(3) # проверка получения"
   ]
  },
  {
   "cell_type": "code",
   "execution_count": 5,
   "metadata": {},
   "outputs": [],
   "source": [
    "def getActiveUsersCountWithCohorts(): # когорты и количество пользователей в них\n",
    "    query = '''SELECT ac.activity_date, r.registration_date, count(distinct(ac.user_id)) as active_users_count\n",
    "    FROM case9.user_activity ac\n",
    "    LEFT JOIN case9.registration r ON r.user_id = ac.user_id\n",
    "    WHERE r.registration_date >= '2019-05-01' and r.registration_date < '2019-07-01'\n",
    "    GROUP BY 1,2\n",
    "    '''.format()\n",
    "    conn = psycopg2.connect(\"dbname='skillfactory' user='skillfactory' host='84.201.134.129' password='cCkxxLVrDE8EbvjueeMedPKt' port=5432\")\n",
    "    dict_cur = conn.cursor(cursor_factory=psycopg2.extras.DictCursor)\n",
    "    dict_cur.execute(query)\n",
    "    rows = dict_cur.fetchall() # список объектов psycopg2.extras.DictCursor\n",
    "    data = []\n",
    "    for row in rows:\n",
    "        data.append(dict(row)) # объект psycopg2.extras.DictCursor превращаеться в словарь\n",
    "    return data \n",
    "active_users_count_with_cohorts = pd.DataFrame(getActiveUsersCountWithCohorts())"
   ]
  },
  {
   "cell_type": "code",
   "execution_count": 6,
   "metadata": {
    "scrolled": true
   },
   "outputs": [
    {
     "data": {
      "text/html": [
       "<div>\n",
       "<style scoped>\n",
       "    .dataframe tbody tr th:only-of-type {\n",
       "        vertical-align: middle;\n",
       "    }\n",
       "\n",
       "    .dataframe tbody tr th {\n",
       "        vertical-align: top;\n",
       "    }\n",
       "\n",
       "    .dataframe thead th {\n",
       "        text-align: right;\n",
       "    }\n",
       "</style>\n",
       "<table border=\"1\" class=\"dataframe\">\n",
       "  <thead>\n",
       "    <tr style=\"text-align: right;\">\n",
       "      <th></th>\n",
       "      <th>activity_date</th>\n",
       "      <th>registration_date</th>\n",
       "      <th>active_users_count</th>\n",
       "    </tr>\n",
       "  </thead>\n",
       "  <tbody>\n",
       "    <tr>\n",
       "      <th>0</th>\n",
       "      <td>2019-05-01</td>\n",
       "      <td>2019-05-01</td>\n",
       "      <td>2590</td>\n",
       "    </tr>\n",
       "    <tr>\n",
       "      <th>1</th>\n",
       "      <td>2019-05-02</td>\n",
       "      <td>2019-05-01</td>\n",
       "      <td>2146</td>\n",
       "    </tr>\n",
       "    <tr>\n",
       "      <th>2</th>\n",
       "      <td>2019-05-02</td>\n",
       "      <td>2019-05-02</td>\n",
       "      <td>2049</td>\n",
       "    </tr>\n",
       "  </tbody>\n",
       "</table>\n",
       "</div>"
      ],
      "text/plain": [
       "  activity_date registration_date  active_users_count\n",
       "0    2019-05-01        2019-05-01                2590\n",
       "1    2019-05-02        2019-05-01                2146\n",
       "2    2019-05-02        2019-05-02                2049"
      ]
     },
     "execution_count": 6,
     "metadata": {},
     "output_type": "execute_result"
    }
   ],
   "source": [
    "active_users_count_with_cohorts.head(3) # проверка получения"
   ]
  },
  {
   "cell_type": "markdown",
   "metadata": {},
   "source": [
    "Преобразования и объединение, количества зарегистрированных с количеством пользователей в когортах"
   ]
  },
  {
   "cell_type": "code",
   "execution_count": 7,
   "metadata": {},
   "outputs": [],
   "source": [
    "# блок преобразований to_datetime\n",
    "registered_users_count['registration_date'] = pd.to_datetime(registered_users_count['registration_date'])\n",
    "active_users_count_with_cohorts['activity_date'] = pd.to_datetime(active_users_count_with_cohorts['activity_date'])\n",
    "active_users_count_with_cohorts['registration_date'] = pd.to_datetime(active_users_count_with_cohorts['registration_date'])\n",
    "\n",
    "# объединение\n",
    "retention_table = active_users_count_with_cohorts.merge(registered_users_count,on=['registration_date'],how='left')\n",
    "\n",
    "# деление когорт по времени жизни \n",
    "retention_table['lifetime'] = retention_table['activity_date'] - retention_table['registration_date']\n",
    "\n",
    "# убираем приставку day оставляем число int\n",
    "retention_table['lifetime'] = retention_table['lifetime']/np.timedelta64(1,'D')\n",
    "retention_table['lifetime'] = retention_table['lifetime'].astype(int)"
   ]
  },
  {
   "cell_type": "code",
   "execution_count": 8,
   "metadata": {},
   "outputs": [],
   "source": [
    "def getRevenue(): # транзакции \n",
    "    query = '''SELECT re.date, r.registration_date, count(distinct(re.user_id)) as users_count_with_revenue, sum(re.revenue) as revenue\n",
    "    FROM case9.user_revenue re\n",
    "    LEFT JOIN case9.registration r ON r.user_id = re.user_id\n",
    "    WHERE r.registration_date >= '2019-05-01' and r.registration_date < '2019-07-01'\n",
    "    GROUP BY 1,2\n",
    "    '''.format()\n",
    "    conn = psycopg2.connect(\"dbname='skillfactory' user='skillfactory' host='84.201.134.129' password='cCkxxLVrDE8EbvjueeMedPKt' port=5432\")\n",
    "    dict_cur = conn.cursor(cursor_factory=psycopg2.extras.DictCursor)\n",
    "    dict_cur.execute(query)\n",
    "    rows = dict_cur.fetchall() # список объектов psycopg2.extras.DictCursor\n",
    "    data = []\n",
    "    for row in rows:\n",
    "        data.append(dict(row)) # объект psycopg2.extras.DictCursor превращаеться в словарь\n",
    "    return data\n",
    "revenue = pd.DataFrame(getRevenue())"
   ]
  },
  {
   "cell_type": "code",
   "execution_count": 9,
   "metadata": {
    "scrolled": true
   },
   "outputs": [
    {
     "data": {
      "text/html": [
       "<div>\n",
       "<style scoped>\n",
       "    .dataframe tbody tr th:only-of-type {\n",
       "        vertical-align: middle;\n",
       "    }\n",
       "\n",
       "    .dataframe tbody tr th {\n",
       "        vertical-align: top;\n",
       "    }\n",
       "\n",
       "    .dataframe thead th {\n",
       "        text-align: right;\n",
       "    }\n",
       "</style>\n",
       "<table border=\"1\" class=\"dataframe\">\n",
       "  <thead>\n",
       "    <tr style=\"text-align: right;\">\n",
       "      <th></th>\n",
       "      <th>date</th>\n",
       "      <th>registration_date</th>\n",
       "      <th>users_count_with_revenue</th>\n",
       "      <th>revenue</th>\n",
       "    </tr>\n",
       "  </thead>\n",
       "  <tbody>\n",
       "    <tr>\n",
       "      <th>0</th>\n",
       "      <td>2019-05-01</td>\n",
       "      <td>2019-05-01</td>\n",
       "      <td>1672</td>\n",
       "      <td>2357.580</td>\n",
       "    </tr>\n",
       "    <tr>\n",
       "      <th>1</th>\n",
       "      <td>2019-05-02</td>\n",
       "      <td>2019-05-01</td>\n",
       "      <td>1420</td>\n",
       "      <td>514.679</td>\n",
       "    </tr>\n",
       "    <tr>\n",
       "      <th>2</th>\n",
       "      <td>2019-05-02</td>\n",
       "      <td>2019-05-02</td>\n",
       "      <td>1367</td>\n",
       "      <td>1629.140</td>\n",
       "    </tr>\n",
       "  </tbody>\n",
       "</table>\n",
       "</div>"
      ],
      "text/plain": [
       "         date registration_date  users_count_with_revenue   revenue\n",
       "0  2019-05-01        2019-05-01                      1672  2357.580\n",
       "1  2019-05-02        2019-05-01                      1420   514.679\n",
       "2  2019-05-02        2019-05-02                      1367  1629.140"
      ]
     },
     "execution_count": 9,
     "metadata": {},
     "output_type": "execute_result"
    }
   ],
   "source": [
    "revenue.head(3) # проверка получения"
   ]
  },
  {
   "cell_type": "code",
   "execution_count": 10,
   "metadata": {},
   "outputs": [],
   "source": [
    "# преобразование to_datetime\n",
    "revenue['date'] = pd.to_datetime(revenue['date'])\n",
    "revenue['registration_date'] = pd.to_datetime(revenue['registration_date'])\n",
    "# переименования\n",
    "revenue.rename(columns={'date':'activity_date'},inplace=True)\n",
    "\n",
    "# создание общей таблицы\n",
    "retention_table_with_revenue = retention_table.merge(revenue,on=['registration_date','activity_date'],how='left')\n",
    "# заполнение пустых значений (NaN)\n",
    "for col in ['revenue','users_count_with_revenue']:\n",
    "    retention_table_with_revenue[col] = retention_table_with_revenue[col].fillna(0)\n",
    "    \n",
    "# немного исправлений \n",
    "retention_table_with_revenue['users_count_with_revenue'] = retention_table_with_revenue['users_count_with_revenue'].astype(int)"
   ]
  },
  {
   "cell_type": "code",
   "execution_count": 11,
   "metadata": {
    "scrolled": true
   },
   "outputs": [
    {
     "data": {
      "text/html": [
       "<div>\n",
       "<style scoped>\n",
       "    .dataframe tbody tr th:only-of-type {\n",
       "        vertical-align: middle;\n",
       "    }\n",
       "\n",
       "    .dataframe tbody tr th {\n",
       "        vertical-align: top;\n",
       "    }\n",
       "\n",
       "    .dataframe thead th {\n",
       "        text-align: right;\n",
       "    }\n",
       "</style>\n",
       "<table border=\"1\" class=\"dataframe\">\n",
       "  <thead>\n",
       "    <tr style=\"text-align: right;\">\n",
       "      <th></th>\n",
       "      <th>activity_date</th>\n",
       "      <th>registration_date</th>\n",
       "      <th>active_users_count</th>\n",
       "      <th>registered_users_count</th>\n",
       "      <th>lifetime</th>\n",
       "      <th>users_count_with_revenue</th>\n",
       "      <th>revenue</th>\n",
       "    </tr>\n",
       "  </thead>\n",
       "  <tbody>\n",
       "    <tr>\n",
       "      <th>0</th>\n",
       "      <td>2019-05-01</td>\n",
       "      <td>2019-05-01</td>\n",
       "      <td>2590</td>\n",
       "      <td>6516</td>\n",
       "      <td>0</td>\n",
       "      <td>1672</td>\n",
       "      <td>2357.580</td>\n",
       "    </tr>\n",
       "    <tr>\n",
       "      <th>1</th>\n",
       "      <td>2019-05-02</td>\n",
       "      <td>2019-05-01</td>\n",
       "      <td>2146</td>\n",
       "      <td>6516</td>\n",
       "      <td>1</td>\n",
       "      <td>1420</td>\n",
       "      <td>514.679</td>\n",
       "    </tr>\n",
       "    <tr>\n",
       "      <th>2</th>\n",
       "      <td>2019-05-02</td>\n",
       "      <td>2019-05-02</td>\n",
       "      <td>2049</td>\n",
       "      <td>5309</td>\n",
       "      <td>0</td>\n",
       "      <td>1367</td>\n",
       "      <td>1629.140</td>\n",
       "    </tr>\n",
       "  </tbody>\n",
       "</table>\n",
       "</div>"
      ],
      "text/plain": [
       "  activity_date registration_date  active_users_count  registered_users_count  \\\n",
       "0    2019-05-01        2019-05-01                2590                    6516   \n",
       "1    2019-05-02        2019-05-01                2146                    6516   \n",
       "2    2019-05-02        2019-05-02                2049                    5309   \n",
       "\n",
       "   lifetime  users_count_with_revenue   revenue  \n",
       "0         0                      1672  2357.580  \n",
       "1         1                      1420   514.679  \n",
       "2         0                      1367  1629.140  "
      ]
     },
     "execution_count": 11,
     "metadata": {},
     "output_type": "execute_result"
    }
   ],
   "source": [
    "retention_table_with_revenue.head(3) # конечная таблица для проведения анализа"
   ]
  },
  {
   "cell_type": "markdown",
   "metadata": {},
   "source": [
    "### Retention 7 day"
   ]
  },
  {
   "cell_type": "code",
   "execution_count": 12,
   "metadata": {},
   "outputs": [
    {
     "name": "stdout",
     "output_type": "stream",
     "text": [
      "Retention седьмого дня равен: для Мая 12.93% для Июня 12.56%\n",
      "Данный показатель почти не поменялся, с лёгким колебанием в худшую сторону.Пока не ясно хорошо это или плохо, продолжим\n"
     ]
    }
   ],
   "source": [
    "# разделение на 2019-06 и 2019-07 с фильтром по седьмому дню жизни \n",
    "retention_7_05 = retention_table_with_revenue[(retention_table_with_revenue['lifetime']==7)\n",
    "                                              &(retention_table_with_revenue['registration_date']<'2019-06-01')]\n",
    "retention_7_06 = retention_table_with_revenue[(retention_table_with_revenue['lifetime']==7)\n",
    "                                              &(retention_table_with_revenue['registration_date']>='2019-06-01')]\n",
    "# Retention 7 day\n",
    "retention_05 = retention_7_05['active_users_count'].sum() / retention_7_05['registered_users_count'].sum()\n",
    "retention_06 = retention_7_06['active_users_count'].sum() / retention_7_06['registered_users_count'].sum()\n",
    "# вывод\n",
    "print('Retention седьмого дня равен: для Мая {:.2%} для Июня {:.2%}\\nДанный показатель почти не поменялся, с лёгким колебанием в худшую сторону.Пока не ясно хорошо это или плохо, продолжим'.format(retention_05,retention_06))"
   ]
  },
  {
   "cell_type": "markdown",
   "metadata": {},
   "source": [
    "### ARPPU"
   ]
  },
  {
   "cell_type": "code",
   "execution_count": 13,
   "metadata": {},
   "outputs": [
    {
     "name": "stdout",
     "output_type": "stream",
     "text": [
      "ARPPU Май 30.61% и Июнь 39.32%. А тут мы видим что в период после введения фичи средняя прибыль подросла почти на треть.\n",
      "Так мы понимаем, что пользователи стали чаще оставлять нам в большие наличности в среднем.\n"
     ]
    }
   ],
   "source": [
    "# разделение на 2019-06 и 2019-07\n",
    "retention_revenue_06 = retention_table_with_revenue['revenue'][(retention_table_with_revenue['registration_date']<'2019-06-01')].sum()\n",
    "retention_revenue_07 = retention_table_with_revenue['revenue'][(retention_table_with_revenue['registration_date']>='2019-06-01')].sum()\n",
    "# ARPPU\n",
    "retention_users_06 = retention_table_with_revenue['users_count_with_revenue'][(retention_table_with_revenue['registration_date']<'2019-06-01')].sum()\n",
    "retention_users_07 = retention_table_with_revenue['users_count_with_revenue'][(retention_table_with_revenue['registration_date']>='2019-06-01')].sum()\n",
    "# вывод\n",
    "print('ARPPU Май {:.2%} и Июнь {:.2%}. А тут мы видим что в период после введения фичи средняя прибыль подросла почти на треть.\\nТак мы понимаем, что пользователи стали чаще оставлять нам в большие наличности в среднем.'.format(retention_revenue_06/retention_users_06,retention_revenue_07/retention_users_07))"
   ]
  },
  {
   "cell_type": "markdown",
   "metadata": {},
   "source": [
    "### Выводы"
   ]
  },
  {
   "cell_type": "markdown",
   "metadata": {},
   "source": [
    "С момента введения фичи Retention не поменялся, но ARPPU вырос почти на 30% что может быть связанно с новшеством, но надо проверить лог самого обновления. Надо дополнительно посчитать сколько платящих пользователей использовали связанный с ним функционал, и только после делать вывод. Но без этого, пока всё очень хорошо и проект успешно ушёл в релиз."
   ]
  }
 ],
 "metadata": {
  "kernelspec": {
   "display_name": "Python 3",
   "language": "python",
   "name": "python3"
  },
  "language_info": {
   "codemirror_mode": {
    "name": "ipython",
    "version": 3
   },
   "file_extension": ".py",
   "mimetype": "text/x-python",
   "name": "python",
   "nbconvert_exporter": "python",
   "pygments_lexer": "ipython3",
   "version": "3.8.5"
  }
 },
 "nbformat": 4,
 "nbformat_minor": 4
}
